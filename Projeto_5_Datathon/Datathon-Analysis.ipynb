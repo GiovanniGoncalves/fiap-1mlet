{
 "cells": [
  {
   "cell_type": "code",
   "execution_count": 1,
   "metadata": {},
   "outputs": [],
   "source": [
    "# Desabilitando warnings\n",
    "import warnings\n",
    "warnings.filterwarnings(\"ignore\")"
   ]
  },
  {
   "cell_type": "markdown",
   "metadata": {},
   "source": [
    "# Datathon - Sistema de recomendação de noticias"
   ]
  },
  {
   "cell_type": "markdown",
   "metadata": {},
   "source": [
    "# Download Data"
   ]
  },
  {
   "cell_type": "markdown",
   "metadata": {},
   "source": [
    "prmeiramente estou fazendo o download do arquivo. Estou usando o stream e salvando o arquivo incementalmente, pois o arquivo é relativamente grande e possui mais de 1 GB."
   ]
  },
  {
   "cell_type": "code",
   "execution_count": 5,
   "metadata": {},
   "outputs": [],
   "source": [
    "import requests\n",
    "\n",
    "URL = r'https://drive.usercontent.google.com/download?id=13rvnyK5PJADJQgYe-VbdXb7PpLPj7lPr&export=download&authuser=0&confirm=t&uuid=02f630ab-0d33-489e-ae09-45facc58edfa&at=APvzH3qdyuGKBM5eXLv9nq2BIPb3%3A1736166348726'\n",
    "\n",
    "response = requests.get(URL, stream=True)\n",
    "\n",
    "with open('data.zip', 'wb') as file:\n",
    "    for chunk in response.iter_content(chunk_size=1024):\n",
    "        if chunk:\n",
    "            file.write(chunk)"
   ]
  },
  {
   "cell_type": "markdown",
   "metadata": {},
   "source": [
    "Extraindo o conteudo do arquivo para uma pasta de dados para que possamos analizar o seu conteúdo."
   ]
  },
  {
   "cell_type": "code",
   "execution_count": 7,
   "metadata": {},
   "outputs": [],
   "source": [
    "import zipfile\n",
    "import os\n",
    "\n",
    "os.makedirs('data', exist_ok=True)\n",
    "\n",
    "with zipfile.ZipFile('data.zip', 'r') as zip_ref:\n",
    "    zip_ref.extractall('data')\n",
    "\n",
    "os.remove('data.zip')"
   ]
  },
  {
   "cell_type": "markdown",
   "metadata": {},
   "source": [
    "os arquivos foram baixados, podemos começar a verificar os dados baixados."
   ]
  },
  {
   "cell_type": "markdown",
   "metadata": {},
   "source": [
    "# Conferindo os dados"
   ]
  },
  {
   "cell_type": "code",
   "execution_count": 2,
   "metadata": {},
   "outputs": [],
   "source": [
    "import pandas as pd"
   ]
  },
  {
   "cell_type": "code",
   "execution_count": 17,
   "metadata": {},
   "outputs": [
    {
     "data": {
      "text/html": [
       "<div>\n",
       "<style scoped>\n",
       "    .dataframe tbody tr th:only-of-type {\n",
       "        vertical-align: middle;\n",
       "    }\n",
       "\n",
       "    .dataframe tbody tr th {\n",
       "        vertical-align: top;\n",
       "    }\n",
       "\n",
       "    .dataframe thead th {\n",
       "        text-align: right;\n",
       "    }\n",
       "</style>\n",
       "<table border=\"1\" class=\"dataframe\">\n",
       "  <thead>\n",
       "    <tr style=\"text-align: right;\">\n",
       "      <th></th>\n",
       "      <th>userId</th>\n",
       "      <th>userType</th>\n",
       "      <th>historySize</th>\n",
       "      <th>history</th>\n",
       "      <th>timestampHistory</th>\n",
       "      <th>numberOfClicksHistory</th>\n",
       "      <th>timeOnPageHistory</th>\n",
       "      <th>scrollPercentageHistory</th>\n",
       "      <th>pageVisitsCountHistory</th>\n",
       "    </tr>\n",
       "  </thead>\n",
       "  <tbody>\n",
       "    <tr>\n",
       "      <th>0</th>\n",
       "      <td>f98d1132f60d46883ce49583257104d15ce723b3bbda21...</td>\n",
       "      <td>Non-Logged</td>\n",
       "      <td>3</td>\n",
       "      <td>c8aab885-433d-4e46-8066-479f40ba7fb2, 68d2039c...</td>\n",
       "      <td>1657146417045, 1657146605778, 1657146698738</td>\n",
       "      <td>76, 38, 41</td>\n",
       "      <td>20380, 21184, 35438</td>\n",
       "      <td>50.3, 18.18, 16.46</td>\n",
       "      <td>2, 1, 1</td>\n",
       "    </tr>\n",
       "  </tbody>\n",
       "</table>\n",
       "</div>"
      ],
      "text/plain": [
       "                                              userId    userType  historySize  \\\n",
       "0  f98d1132f60d46883ce49583257104d15ce723b3bbda21...  Non-Logged            3   \n",
       "\n",
       "                                             history  \\\n",
       "0  c8aab885-433d-4e46-8066-479f40ba7fb2, 68d2039c...   \n",
       "\n",
       "                              timestampHistory numberOfClicksHistory  \\\n",
       "0  1657146417045, 1657146605778, 1657146698738            76, 38, 41   \n",
       "\n",
       "     timeOnPageHistory scrollPercentageHistory pageVisitsCountHistory  \n",
       "0  20380, 21184, 35438      50.3, 18.18, 16.46                2, 1, 1  "
      ]
     },
     "execution_count": 17,
     "metadata": {},
     "output_type": "execute_result"
    }
   ],
   "source": [
    "arquivos = [ f'./data/files/treino/treino_parte{n}.csv' for n in range(1, 7) ]\n",
    "dfs = [ pd.read_csv(arquivo) for arquivo in arquivos ]\n",
    "df_treino = pd.concat(dfs)\n",
    "\n",
    "del arquivos, dfs\n",
    "\n",
    "df_treino = df_treino.drop(columns=['timestampHistory_new'])\n",
    "\n",
    "df_treino.head(1)"
   ]
  },
  {
   "cell_type": "markdown",
   "metadata": {},
   "source": [
    "Esses são os dados de acesso às matérias do G1, nesse dataframe temos os dados de atividade dos usuários da plataforma de notícias, além de tempo de leitura, percentual de rolagem da pagina, entre outros.\n",
    "\n",
    "Cada linha apresenta os dados de 1 unico usuário, tendo as informações de acesso em um formato que dificulta a utilização. Alguns ajustes na formatação do arquivo podem facilitar o processo de análise dos dados."
   ]
  },
  {
   "cell_type": "code",
   "execution_count": 18,
   "metadata": {},
   "outputs": [
    {
     "name": "stdout",
     "output_type": "stream",
     "text": [
      "<class 'pandas.core.frame.DataFrame'>\n",
      "Index: 577942 entries, 0 to 77941\n",
      "Data columns (total 9 columns):\n",
      " #   Column                   Non-Null Count   Dtype \n",
      "---  ------                   --------------   ----- \n",
      " 0   userId                   577942 non-null  object\n",
      " 1   userType                 577942 non-null  object\n",
      " 2   historySize              577942 non-null  int64 \n",
      " 3   history                  577942 non-null  object\n",
      " 4   timestampHistory         577942 non-null  object\n",
      " 5   numberOfClicksHistory    577942 non-null  object\n",
      " 6   timeOnPageHistory        577942 non-null  object\n",
      " 7   scrollPercentageHistory  577942 non-null  object\n",
      " 8   pageVisitsCountHistory   577942 non-null  object\n",
      "dtypes: int64(1), object(8)\n",
      "memory usage: 44.1+ MB\n"
     ]
    }
   ],
   "source": [
    "df_treino.info()"
   ]
  },
  {
   "cell_type": "code",
   "execution_count": 10,
   "metadata": {},
   "outputs": [
    {
     "data": {
      "text/html": [
       "<div>\n",
       "<style scoped>\n",
       "    .dataframe tbody tr th:only-of-type {\n",
       "        vertical-align: middle;\n",
       "    }\n",
       "\n",
       "    .dataframe tbody tr th {\n",
       "        vertical-align: top;\n",
       "    }\n",
       "\n",
       "    .dataframe thead th {\n",
       "        text-align: right;\n",
       "    }\n",
       "</style>\n",
       "<table border=\"1\" class=\"dataframe\">\n",
       "  <thead>\n",
       "    <tr style=\"text-align: right;\">\n",
       "      <th></th>\n",
       "      <th>page</th>\n",
       "      <th>url</th>\n",
       "      <th>issued</th>\n",
       "      <th>modified</th>\n",
       "      <th>title</th>\n",
       "      <th>body</th>\n",
       "      <th>caption</th>\n",
       "    </tr>\n",
       "  </thead>\n",
       "  <tbody>\n",
       "    <tr>\n",
       "      <th>0</th>\n",
       "      <td>13db0ab1-eea2-4603-84c4-f40a876c7400</td>\n",
       "      <td>http://g1.globo.com/am/amazonas/noticia/2022/0...</td>\n",
       "      <td>2022-06-18 20:37:45+00:00</td>\n",
       "      <td>2023-04-15 00:02:08+00:00</td>\n",
       "      <td>Caso Bruno e Dom: 3º suspeito tem prisão tempo...</td>\n",
       "      <td>Após audiência de custódia, a Justiça do Amazo...</td>\n",
       "      <td>Jeferson da Silva Lima foi escoltado por agent...</td>\n",
       "    </tr>\n",
       "  </tbody>\n",
       "</table>\n",
       "</div>"
      ],
      "text/plain": [
       "                                   page  \\\n",
       "0  13db0ab1-eea2-4603-84c4-f40a876c7400   \n",
       "\n",
       "                                                 url  \\\n",
       "0  http://g1.globo.com/am/amazonas/noticia/2022/0...   \n",
       "\n",
       "                      issued                   modified  \\\n",
       "0  2022-06-18 20:37:45+00:00  2023-04-15 00:02:08+00:00   \n",
       "\n",
       "                                               title  \\\n",
       "0  Caso Bruno e Dom: 3º suspeito tem prisão tempo...   \n",
       "\n",
       "                                                body  \\\n",
       "0  Após audiência de custódia, a Justiça do Amazo...   \n",
       "\n",
       "                                             caption  \n",
       "0  Jeferson da Silva Lima foi escoltado por agent...  "
      ]
     },
     "execution_count": 10,
     "metadata": {},
     "output_type": "execute_result"
    }
   ],
   "source": [
    "arquivos = [ f'./data/itens/itens/itens-parte{n}.csv' for n in range(1, 4) ]\n",
    "dfs = [ pd.read_csv(arquivo) for arquivo in arquivos ]\n",
    "df_itens = pd.concat(dfs)\n",
    "\n",
    "del arquivos, dfs\n",
    "\n",
    "df_itens.head(1)"
   ]
  },
  {
   "cell_type": "markdown",
   "metadata": {},
   "source": [
    "Esse arquivo contém as informações das matérias disponíveis no portal G1. Essas informações podem ser relevantes para buscar as correlações entre as matérias e enriquecer nosso sistema de recomendação."
   ]
  },
  {
   "cell_type": "markdown",
   "metadata": {},
   "source": [
    "# Análise e normalização de dados"
   ]
  },
  {
   "cell_type": "code",
   "execution_count": 2,
   "metadata": {},
   "outputs": [],
   "source": [
    "import matplotlib.pyplot as plt\n",
    "import seaborn as sns\n",
    "import pandas as pd\n",
    "import numpy as np\n",
    "import os"
   ]
  },
  {
   "cell_type": "markdown",
   "metadata": {},
   "source": [
    "## Normalização dos dados"
   ]
  },
  {
   "cell_type": "markdown",
   "metadata": {},
   "source": [
    "Primeiramente quero transformar os dados tanto em formato em que estão estruturados, quanto em relação à tipagem. Essas transformações devem facilitar os trabalhos futuros de manipulação e visualização desses dados."
   ]
  },
  {
   "cell_type": "code",
   "execution_count": 3,
   "metadata": {},
   "outputs": [],
   "source": [
    "if not os.path.exists('data/files/treino/long_format.csv'):    \n",
    "    colunas_separadas_por_virgula = ['history', 'timestampHistory', 'numberOfClicksHistory', 'timeOnPageHistory', 'scrollPercentageHistory', 'pageVisitsCountHistory']\n",
    "\n",
    "    for coluna in colunas_separadas_por_virgula:\n",
    "        df_treino[coluna] = df_treino[coluna].str.split(',')\n",
    "\n",
    "    df_treino = df_treino.explode(colunas_separadas_por_virgula)\n",
    "\n",
    "    df_treino.to_csv(r'data/files/treino/long_format.csv', index=False)\n",
    "\n",
    "else:\n",
    "    df_treino = pd.read_csv(r'data/files/treino/long_format.csv')\n",
    "\n",
    "df_treino['userType'] = df_treino['userType'].astype('category')\n",
    "df_treino['historySize'] = df_treino['historySize'].astype('int')\n",
    "df_treino['dateTimeHistory'] = pd.to_datetime(df_treino['timestampHistory'], unit='ms')\n",
    "df_treino['numberOfClicksHistory'] = df_treino['numberOfClicksHistory'].astype('int')\n",
    "df_treino['timeOnPageHistory'] = df_treino['timeOnPageHistory'].astype('int')\n",
    "df_treino['scrollPercentageHistory'] = df_treino['scrollPercentageHistory'].astype('float')\n",
    "df_treino['pageVisitsCountHistory'] = df_treino['pageVisitsCountHistory'].astype('int')"
   ]
  },
  {
   "cell_type": "code",
   "execution_count": 4,
   "metadata": {},
   "outputs": [
    {
     "data": {
      "text/html": [
       "<div>\n",
       "<style scoped>\n",
       "    .dataframe tbody tr th:only-of-type {\n",
       "        vertical-align: middle;\n",
       "    }\n",
       "\n",
       "    .dataframe tbody tr th {\n",
       "        vertical-align: top;\n",
       "    }\n",
       "\n",
       "    .dataframe thead th {\n",
       "        text-align: right;\n",
       "    }\n",
       "</style>\n",
       "<table border=\"1\" class=\"dataframe\">\n",
       "  <thead>\n",
       "    <tr style=\"text-align: right;\">\n",
       "      <th></th>\n",
       "      <th>userId</th>\n",
       "      <th>userType</th>\n",
       "      <th>historySize</th>\n",
       "      <th>history</th>\n",
       "      <th>timestampHistory</th>\n",
       "      <th>numberOfClicksHistory</th>\n",
       "      <th>timeOnPageHistory</th>\n",
       "      <th>scrollPercentageHistory</th>\n",
       "      <th>pageVisitsCountHistory</th>\n",
       "      <th>dateTimeHistory</th>\n",
       "    </tr>\n",
       "  </thead>\n",
       "  <tbody>\n",
       "    <tr>\n",
       "      <th>0</th>\n",
       "      <td>f98d1132f60d46883ce49583257104d15ce723b3bbda21...</td>\n",
       "      <td>Non-Logged</td>\n",
       "      <td>3</td>\n",
       "      <td>c8aab885-433d-4e46-8066-479f40ba7fb2</td>\n",
       "      <td>1657146417045</td>\n",
       "      <td>76</td>\n",
       "      <td>20380</td>\n",
       "      <td>50.30</td>\n",
       "      <td>2</td>\n",
       "      <td>2022-07-06 22:26:57.045</td>\n",
       "    </tr>\n",
       "    <tr>\n",
       "      <th>1</th>\n",
       "      <td>f98d1132f60d46883ce49583257104d15ce723b3bbda21...</td>\n",
       "      <td>Non-Logged</td>\n",
       "      <td>3</td>\n",
       "      <td>68d2039c-c9aa-456c-ac33-9b2e8677fba7</td>\n",
       "      <td>1657146605778</td>\n",
       "      <td>38</td>\n",
       "      <td>21184</td>\n",
       "      <td>18.18</td>\n",
       "      <td>1</td>\n",
       "      <td>2022-07-06 22:30:05.778</td>\n",
       "    </tr>\n",
       "    <tr>\n",
       "      <th>2</th>\n",
       "      <td>f98d1132f60d46883ce49583257104d15ce723b3bbda21...</td>\n",
       "      <td>Non-Logged</td>\n",
       "      <td>3</td>\n",
       "      <td>13e423ce-1d69-4c78-bc18-e8c8f7271964</td>\n",
       "      <td>1657146698738</td>\n",
       "      <td>41</td>\n",
       "      <td>35438</td>\n",
       "      <td>16.46</td>\n",
       "      <td>1</td>\n",
       "      <td>2022-07-06 22:31:38.738</td>\n",
       "    </tr>\n",
       "  </tbody>\n",
       "</table>\n",
       "</div>"
      ],
      "text/plain": [
       "                                              userId    userType  historySize  \\\n",
       "0  f98d1132f60d46883ce49583257104d15ce723b3bbda21...  Non-Logged            3   \n",
       "1  f98d1132f60d46883ce49583257104d15ce723b3bbda21...  Non-Logged            3   \n",
       "2  f98d1132f60d46883ce49583257104d15ce723b3bbda21...  Non-Logged            3   \n",
       "\n",
       "                                 history  timestampHistory  \\\n",
       "0   c8aab885-433d-4e46-8066-479f40ba7fb2     1657146417045   \n",
       "1   68d2039c-c9aa-456c-ac33-9b2e8677fba7     1657146605778   \n",
       "2   13e423ce-1d69-4c78-bc18-e8c8f7271964     1657146698738   \n",
       "\n",
       "   numberOfClicksHistory  timeOnPageHistory  scrollPercentageHistory  \\\n",
       "0                     76              20380                    50.30   \n",
       "1                     38              21184                    18.18   \n",
       "2                     41              35438                    16.46   \n",
       "\n",
       "   pageVisitsCountHistory         dateTimeHistory  \n",
       "0                       2 2022-07-06 22:26:57.045  \n",
       "1                       1 2022-07-06 22:30:05.778  \n",
       "2                       1 2022-07-06 22:31:38.738  "
      ]
     },
     "execution_count": 4,
     "metadata": {},
     "output_type": "execute_result"
    }
   ],
   "source": [
    "df_treino.head(3)"
   ]
  },
  {
   "cell_type": "code",
   "execution_count": 5,
   "metadata": {},
   "outputs": [
    {
     "name": "stdout",
     "output_type": "stream",
     "text": [
      "<class 'pandas.core.frame.DataFrame'>\n",
      "RangeIndex: 8123951 entries, 0 to 8123950\n",
      "Data columns (total 10 columns):\n",
      " #   Column                   Dtype         \n",
      "---  ------                   -----         \n",
      " 0   userId                   object        \n",
      " 1   userType                 category      \n",
      " 2   historySize              int64         \n",
      " 3   history                  object        \n",
      " 4   timestampHistory         int64         \n",
      " 5   numberOfClicksHistory    int64         \n",
      " 6   timeOnPageHistory        int64         \n",
      " 7   scrollPercentageHistory  float64       \n",
      " 8   pageVisitsCountHistory   int64         \n",
      " 9   dateTimeHistory          datetime64[ns]\n",
      "dtypes: category(1), datetime64[ns](1), float64(1), int64(5), object(2)\n",
      "memory usage: 565.6+ MB\n"
     ]
    }
   ],
   "source": [
    "df_treino.info()"
   ]
  },
  {
   "cell_type": "code",
   "execution_count": 4,
   "metadata": {},
   "outputs": [],
   "source": [
    "if not os.path.exists(r'data/itens/itens/long_format.csv'):\n",
    "    df_itens.to_csv(r'data/itens/itens/long_format.csv', index=False)\n",
    "\n",
    "else:\n",
    "    df_itens = pd.read_csv(r'data/itens/itens/long_format.csv')\n",
    "\n",
    "df_itens['issued'] = pd.to_datetime(df_itens['issued']).dt.tz_convert(None)\n",
    "df_itens['modified'] = pd.to_datetime(df_itens['modified']).dt.tz_convert(None)"
   ]
  },
  {
   "cell_type": "code",
   "execution_count": 4,
   "metadata": {},
   "outputs": [
    {
     "data": {
      "text/html": [
       "<div>\n",
       "<style scoped>\n",
       "    .dataframe tbody tr th:only-of-type {\n",
       "        vertical-align: middle;\n",
       "    }\n",
       "\n",
       "    .dataframe tbody tr th {\n",
       "        vertical-align: top;\n",
       "    }\n",
       "\n",
       "    .dataframe thead th {\n",
       "        text-align: right;\n",
       "    }\n",
       "</style>\n",
       "<table border=\"1\" class=\"dataframe\">\n",
       "  <thead>\n",
       "    <tr style=\"text-align: right;\">\n",
       "      <th></th>\n",
       "      <th>page</th>\n",
       "      <th>url</th>\n",
       "      <th>issued</th>\n",
       "      <th>modified</th>\n",
       "      <th>title</th>\n",
       "      <th>body</th>\n",
       "      <th>caption</th>\n",
       "    </tr>\n",
       "  </thead>\n",
       "  <tbody>\n",
       "    <tr>\n",
       "      <th>0</th>\n",
       "      <td>13db0ab1-eea2-4603-84c4-f40a876c7400</td>\n",
       "      <td>http://g1.globo.com/am/amazonas/noticia/2022/0...</td>\n",
       "      <td>2022-06-18 20:37:45+00:00</td>\n",
       "      <td>2023-04-15 00:02:08+00:00</td>\n",
       "      <td>Caso Bruno e Dom: 3º suspeito tem prisão tempo...</td>\n",
       "      <td>Após audiência de custódia, a Justiça do Amazo...</td>\n",
       "      <td>Jeferson da Silva Lima foi escoltado por agent...</td>\n",
       "    </tr>\n",
       "  </tbody>\n",
       "</table>\n",
       "</div>"
      ],
      "text/plain": [
       "                                   page  \\\n",
       "0  13db0ab1-eea2-4603-84c4-f40a876c7400   \n",
       "\n",
       "                                                 url  \\\n",
       "0  http://g1.globo.com/am/amazonas/noticia/2022/0...   \n",
       "\n",
       "                      issued                   modified  \\\n",
       "0  2022-06-18 20:37:45+00:00  2023-04-15 00:02:08+00:00   \n",
       "\n",
       "                                               title  \\\n",
       "0  Caso Bruno e Dom: 3º suspeito tem prisão tempo...   \n",
       "\n",
       "                                                body  \\\n",
       "0  Após audiência de custódia, a Justiça do Amazo...   \n",
       "\n",
       "                                             caption  \n",
       "0  Jeferson da Silva Lima foi escoltado por agent...  "
      ]
     },
     "execution_count": 4,
     "metadata": {},
     "output_type": "execute_result"
    }
   ],
   "source": [
    "df_itens.head(1)"
   ]
  },
  {
   "cell_type": "markdown",
   "metadata": {},
   "source": [
    "## Análise de dados"
   ]
  },
  {
   "cell_type": "code",
   "execution_count": 9,
   "metadata": {},
   "outputs": [],
   "source": [
    "df_treino_train = df_treino.sample(frac=0.9, random_state=42)\n",
    "df_treino_test = df_treino.drop(df_treino_train.index)"
   ]
  },
  {
   "cell_type": "code",
   "execution_count": 4,
   "metadata": {},
   "outputs": [],
   "source": [
    "df_itens_train = df_itens.sample(frac=0.9, random_state=42)\n",
    "df_itens_test = df_itens.drop(df_itens_train.index)"
   ]
  },
  {
   "cell_type": "code",
   "execution_count": 23,
   "metadata": {},
   "outputs": [
    {
     "name": "stdout",
     "output_type": "stream",
     "text": [
      "(230043, 7) (25560, 7)\n"
     ]
    }
   ],
   "source": [
    "print(df_itens_train.shape, df_itens_test.shape)"
   ]
  },
  {
   "cell_type": "markdown",
   "metadata": {},
   "source": [
    "### Analise do dataframe de notícias"
   ]
  },
  {
   "cell_type": "code",
   "execution_count": 24,
   "metadata": {},
   "outputs": [
    {
     "name": "stdout",
     "output_type": "stream",
     "text": [
      "Teve como, Dona Rosângela! Auxiliar chega ao trabalho apesar da greve e brinca com chefe: ‘Não é megera como falaram na internet’\n",
      "-----------------------------------\n",
      "Rosângela é chefe de Ana Beatriz dos Santos, de 23 anos, uma das muitas prejudicadas com a greve dos rodoviários desta terça. A paralisação afetou mais o BRT — justamente a condução que Bia pega para ir de casa, em Madureira, para o trabalho.\n",
      "-----------------------------------\n",
      "\"Ela mandou dar um jeito para a gente chegar lá. Que jeito? Não sei. De avião. Só pode\", diz passageira que aguarda ônibus\n",
      "“É, Bia, agora você vai ter que vir trabalhar de avião”, brincou Dona Rosângela, quando sua funcionária chegou três horas atrasada ao batente, depois de desabafar no Bom Dia Rio desta terça-feira (29). O sufoco viralizou, e #donarosangela foi parar nos trending topics do Twitter. Veja vídeo acima. \n",
      "“De que jeito? Não sei. De avião, só pode. Porque não tem como, né, Dona Rosângela? Não tem como chegar no trabalho”, afirmou em Madureira (veja no vídeo acima).\n",
      "Essa passageira é Ana Beatriz dos Santos, de 23 anos, uma das muitas prejudicadas com a greve dos rodoviários desta terça. A paralisação afetou mais o BRT — justamente a condução que Bia pega para ir de casa, em Madureira, para o trabalho. \n",
      "Acabou conseguindo chegar. Não foi de avião, claro, mas pegou um ônibus e uma van.\n",
      "Compartilhe no WhatsApp\n",
      "Compartilhe no Telegram\n",
      "Qual foi a treta da Dona Rosângela?\n",
      "Ana Beatriz, de rosa, desabafa no BDRJ \n",
      "Reprodução/TV Globo\n",
      "Quem é Dona Rosângela \n",
      "Bia é auxiliar de serviços gerais em um condomínio no Recreio, na Zona Oeste. Dona Rosângela é a encarregada.\n",
      "“Eu cheguei com a educação que minha avó me deu e comecei a trabalhar. Ficou tudo bem! Minha chefe é muito boa, é muito divertida, ela levou numa boa!”, disse ao g1.\n",
      "Bia saiu em defesa de Dona Rosângela:\n",
      "“Ficou tudo bem com minha patroa. Ela não é megera como falaram na internet. Ela é uma bênção. Somos amigas, e amanhã vamos voltar a trabalhar normal. Minha patroa é muito de coração. Ela é uma ótima pessoa”, rasgou.\n",
      "Manhã de perrengues\n",
      "Com a greve dos rodoviários no Rio, nesta terça-feira (29), a Prefeitura do Rio fez um apelo para que cariocas ficassem em casa — mas faltou combinar com os patrões. Mesmo com o Sindicato tendo anunciado a suspensão da greve no meio da manhã, diversos passageiros foram afetados. \n",
      "O Bom Dia Rio mostrou muitos trabalhadores tentando condução a qualquer custo por ordem dos chefes — espremidos nos poucos ônibus circulando ou pagando tarifas muito mais altas em vans. \n",
      "Rodoviários do Rio entraram em greve no primeiro minuto desta terça, mas o Sindicato anunciou o fim da paralisação ainda no começo da manhã. Durante alguns momentos, nenhum articulado do BRT estava rodando, e algumas estações chegaram a amanhecer fechadas. O corredor Santa Cruz-Alvorada funcionou em contingência durante o período de greve, com coletivos normais.\n",
      "Alguns ônibus de linha, regulares, estavam circulando com 60% da frota, segundo o Rio Ônibus, e havia a promessa de aumentar os coletivos nas ruas antes do anúncio do fim da greve. \n",
      "LEIA MAIS:\n",
      "'Plano de contingência não substitui o sistema', diz Paes sobre alternativa da prefeitura para minimizar greve de rodoviários\n",
      "‘Trabalho na diária e perdi o dia’: passageiros contam as dificuldades de locomoção com a greve dos rodoviários no Rio\n",
      "População do Rio busca alternativas para conseguir ir ao trabalho\n",
      "Outros relatos \n",
      "Nos principais pontos de circulação de passageiros da cidade, os relatos de pessoas que tiveram prejuízos por não chegar ao trabalho eram frequentes.\n",
      "“Eu cheguei às 5h. Eu não liguei para a patroa porque ela não acorda agora e não quero incomodar, mas estou mandando mensagem”, afirmou outra passageira, que contou não ter dinheiro para buscar um carro por aplicativo.\n",
      "Outro contou que perderia dinheiro. “Estou tentando ir para o Recreio. Eu trabalho na diária e então perdi o dia. Estou esperando o patrão fazer o PIX para pegar a condução”, afirmou o trabalhador.\n"
     ]
    }
   ],
   "source": [
    "print(df_itens_train.iloc[0]['title'])\n",
    "print('-----------------------------------')\n",
    "print(df_itens_train.iloc[0]['caption'])\n",
    "print('-----------------------------------')\n",
    "print(df_itens_train.iloc[0]['body'])"
   ]
  },
  {
   "cell_type": "markdown",
   "metadata": {},
   "source": [
    "#### Testando a clusterização para buscar a similaridade entre texto distintos"
   ]
  },
  {
   "cell_type": "markdown",
   "metadata": {},
   "source": [
    "primeiramente quero testar a possibilidade de utilizar tags para simplificar a busca de matérias com conteúdos similates."
   ]
  },
  {
   "cell_type": "code",
   "execution_count": 4,
   "metadata": {},
   "outputs": [],
   "source": [
    "import nltk\n",
    "\n",
    "from sklearn.feature_extraction.text import TfidfVectorizer\n",
    "from nltk.corpus import stopwords\n",
    "\n",
    "nltk.download('stopwords', quiet=True)\n",
    "pt_stopwords = list(stopwords.words('portuguese'))\n",
    "\n",
    "def teste_tags(feature:str, top_n=25):\n",
    "    vectorizer = TfidfVectorizer(stop_words=pt_stopwords)\n",
    "    X = vectorizer.fit_transform(df_itens_train[feature])\n",
    "\n",
    "    termos = vectorizer.get_feature_names_out()\n",
    "\n",
    "    def obter_tags(indice_texto, top_n=top_n):\n",
    "        tfidf_scores = X[indice_texto].toarray().flatten()\n",
    "        indices = tfidf_scores.argsort()[-top_n:][::-1]\n",
    "        return [termos[i] for i in indices]\n",
    "        \n",
    "\n",
    "    for i, texto in enumerate(df_itens_train[feature][:5]):\n",
    "        print(f\"Texto: {texto[:80]}\")\n",
    "        print(f\"Tags: {' '.join(obter_tags(i))}\\n\")"
   ]
  },
  {
   "cell_type": "code",
   "execution_count": 5,
   "metadata": {},
   "outputs": [
    {
     "data": {
      "text/plain": [
       "'a à ao aos aquela aquelas aquele aqueles aquilo as às até com como da das de dela delas dele deles depois do dos e é ela elas ele eles em entre era eram éramos essa essas esse esses esta está estamos estão estar estas estava estavam estávamos este esteja estejam estejamos estes esteve estive estivemos estiver estivera estiveram estivéramos estiverem estivermos estivesse estivessem estivéssemos estou eu foi fomos for fora foram fôramos forem formos fosse fossem fôssemos fui há haja hajam hajamos hão havemos haver hei houve houvemos houver houvera houverá houveram houvéramos houverão houverei houverem houveremos houveria houveriam houveríamos houvermos houvesse houvessem houvéssemos isso isto já lhe lhes mais mas me mesmo meu meus minha minhas muito na não nas nem no nos nós nossa nossas nosso nossos num numa o os ou para pela pelas pelo pelos por qual quando que quem são se seja sejam sejamos sem ser será serão serei seremos seria seriam seríamos seu seus só somos sou sua suas também te tem tém temos tenha tenham tenhamos tenho terá terão terei teremos teria teriam teríamos teu teus teve tinha tinham tínhamos tive tivemos tiver tivera tiveram tivéramos tiverem tivermos tivesse tivessem tivéssemos tu tua tuas um uma você vocês vos'"
      ]
     },
     "execution_count": 5,
     "metadata": {},
     "output_type": "execute_result"
    }
   ],
   "source": [
    "' '.join(pt_stopwords)"
   ]
  },
  {
   "cell_type": "markdown",
   "metadata": {},
   "source": [
    "**Stopwords** são palavras que podem ser desconsideradas na análise. Por hora estamos usando uma lista padrão de stopwords para a lingua portuguesa, mas existe a possibilidade de incluirmos outras palavras que queremos eliminar no contexto desse sistema de recomendação, tendo assim uma lista de palavras mais customizadas."
   ]
  },
  {
   "cell_type": "code",
   "execution_count": 6,
   "metadata": {},
   "outputs": [
    {
     "ename": "NameError",
     "evalue": "name 'df_itens_train' is not defined",
     "output_type": "error",
     "traceback": [
      "\u001b[1;31m---------------------------------------------------------------------------\u001b[0m",
      "\u001b[1;31mNameError\u001b[0m                                 Traceback (most recent call last)",
      "Cell \u001b[1;32mIn[6], line 1\u001b[0m\n\u001b[1;32m----> 1\u001b[0m \u001b[43mteste_tags\u001b[49m\u001b[43m(\u001b[49m\u001b[38;5;124;43m'\u001b[39;49m\u001b[38;5;124;43mtitle\u001b[39;49m\u001b[38;5;124;43m'\u001b[39;49m\u001b[43m,\u001b[49m\u001b[43m \u001b[49m\u001b[38;5;241;43m3\u001b[39;49m\u001b[43m)\u001b[49m\n",
      "Cell \u001b[1;32mIn[4], line 11\u001b[0m, in \u001b[0;36mteste_tags\u001b[1;34m(feature, top_n)\u001b[0m\n\u001b[0;32m      9\u001b[0m \u001b[38;5;28;01mdef\u001b[39;00m\u001b[38;5;250m \u001b[39m\u001b[38;5;21mteste_tags\u001b[39m(feature:\u001b[38;5;28mstr\u001b[39m, top_n\u001b[38;5;241m=\u001b[39m\u001b[38;5;241m25\u001b[39m):\n\u001b[0;32m     10\u001b[0m     vectorizer \u001b[38;5;241m=\u001b[39m TfidfVectorizer(stop_words\u001b[38;5;241m=\u001b[39mpt_stopwords)\n\u001b[1;32m---> 11\u001b[0m     X \u001b[38;5;241m=\u001b[39m vectorizer\u001b[38;5;241m.\u001b[39mfit_transform(\u001b[43mdf_itens_train\u001b[49m[feature])\n\u001b[0;32m     13\u001b[0m     termos \u001b[38;5;241m=\u001b[39m vectorizer\u001b[38;5;241m.\u001b[39mget_feature_names_out()\n\u001b[0;32m     15\u001b[0m     \u001b[38;5;28;01mdef\u001b[39;00m\u001b[38;5;250m \u001b[39m\u001b[38;5;21mobter_tags\u001b[39m(indice_texto, top_n\u001b[38;5;241m=\u001b[39mtop_n):\n",
      "\u001b[1;31mNameError\u001b[0m: name 'df_itens_train' is not defined"
     ]
    }
   ],
   "source": [
    "teste_tags('title', 3)"
   ]
  },
  {
   "cell_type": "markdown",
   "metadata": {},
   "source": [
    "O resultado das tags para o titulo é mediano. Esse é um resultado esperado, uma vez que o modelo está rodando basicamente em configurações padrão e os textos dos titulos geralmente são curtos.\n",
    "\n",
    "O resultado, em uma primeira análise, não parece ter uma qualidade muito alta, mas acredito que pode ser aproveitado."
   ]
  },
  {
   "cell_type": "code",
   "execution_count": 28,
   "metadata": {},
   "outputs": [
    {
     "name": "stdout",
     "output_type": "stream",
     "text": [
      "Texto: Rosângela é chefe de Ana Beatriz dos Santos, de 23 anos, uma das muitas prejudic\n",
      "Tags: justamente bia rosângela prejudicadas pega condução brt madureira afetou rodoviários beatriz greve\n",
      "\n",
      "Texto: Oportunidades são para cargo de operador de produção. Para se candidatar, é nece\n",
      "Tags: kleber auditório 7h30 comparecer operador candidatar reis necessário oportunidades produção cargo quinta\n",
      "\n",
      "Texto: Considerada como a maior revolução tecnológica desde a criação da internet, a te\n",
      "Tags: bitcoin tecnológica criptomoedas revolução considerada criação tecnologia base internet maior desde únicos\n",
      "\n",
      "Texto: Carlos Eduardo dos Santos Ramos foi preso na sexta-feira (9) em Paço do Lumiar; \n",
      "Tags: mencionou lumiar paço ramos prestou abuso semanas eduardo depoimento carlos último santos\n",
      "\n",
      "Texto: Documento detalha principais crimes cometidos, como o do auxílio emergencial e d\n",
      "Tags: engando premiado detalha golpistas bilhete cometidos emergencial dicas auxílio documento principais crimes\n",
      "\n"
     ]
    }
   ],
   "source": [
    "teste_tags('caption', 12)"
   ]
  },
  {
   "cell_type": "markdown",
   "metadata": {},
   "source": [
    "O caption é um pouco mais detalhado e informativo, esse texto permite a extração de mais tags e provavelmente elas serão de ais qualidade. Ainda percebo ruídos nas tags, mas acredito que o resultado pode ser usado para encontrar uma correlação entre as matérias."
   ]
  },
  {
   "cell_type": "code",
   "execution_count": 29,
   "metadata": {},
   "outputs": [
    {
     "name": "stdout",
     "output_type": "stream",
     "text": [
      "Texto: \"Ela mandou dar um jeito para a gente chegar lá. Que jeito? Não sei. De avião. S\n",
      "Tags: greve rosângela rodoviários bia dona patroa ônibus rio avião passageira condução trabalho jeito chegar brt contingência passageiros recreio madureira perdi beatriz circulando donarosangela paralisação coletivos\n",
      "\n",
      "Texto: Agroindústria oferece 150 vagas de emprego em Rio Verde\n",
      "A agroindústria BRF ofer\n",
      "Tags: goiás verde brf agroindústria vagas emprego interessado 5142 3620 rio trabalhador anhanguera 150 empresa thauany oferece deverá reservista documentos elisângela 438 produção selecionado kleber turnos\n",
      "\n",
      "Texto:  Sistema garante segurança e rapidez no processamento de informações e transaçõe\n",
      "Tags: blockchain braiscompany tecnologia bloco sistemas informação cadeados informações blocos criptografia segurança rede criptomoedas chave embaralhadas dados soluções cartórios milésimo ais altere todos interligados revolucionária adicionado\n",
      "\n",
      "Texto: Carlos Eduardo dos Santos Ramos foi autuado pelo crime de estupro de vulnerável\n",
      "\n",
      "Tags: ramos eduardo autuado vulnerável carlos santos estupro autor adolescente lumiar cadeirante praticava situado paço mencionou abusar sobrinha sexualmente possuía vítima abusos tio crime avó ficava\n",
      "\n",
      "Texto: Cartilha detalhe 15 crimes de golpes praticados pela internet \n",
      "Reprodução / Polí\n",
      "Tags: golpes procure polícia dicas internet estranhos cartilha persuadem civil praticados delegaciaonline prevenir destes crimes 98444 0606 trariam anflor whatsapp rs cair concretiza pandemia nadine propagam\n",
      "\n"
     ]
    }
   ],
   "source": [
    "teste_tags('body')"
   ]
  },
  {
   "cell_type": "markdown",
   "metadata": {},
   "source": [
    "O corpo da matéria, por ser mais informativo e conter uma quantidade maior de texto,é esperado que tenhamos uma quantidade maior de tags relevantes."
   ]
  },
  {
   "cell_type": "markdown",
   "metadata": {},
   "source": [
    "O TfidfVectorizer está trazendo resultados interessantes, mas o chat gpt está sugerindo o keybert como uma opção com melhores resultados em testes de benchmark. Sendo assim, vou testar essa segunda biblioteca."
   ]
  },
  {
   "cell_type": "code",
   "execution_count": 30,
   "metadata": {},
   "outputs": [
    {
     "name": "stderr",
     "output_type": "stream",
     "text": [
      "c:\\projects\\fiap-1mlet\\Projeto_5_Datathon\\.venv\\Lib\\site-packages\\tqdm\\auto.py:21: TqdmWarning: IProgress not found. Please update jupyter and ipywidgets. See https://ipywidgets.readthedocs.io/en/stable/user_install.html\n",
      "  from .autonotebook import tqdm as notebook_tqdm\n"
     ]
    },
    {
     "name": "stdout",
     "output_type": "stream",
     "text": [
      "Texto: Após audiência de custódia, a Justiça do Amazonas decretou, na tarde deste sábad\n",
      "Tags: pelado prisão dinha mandado escoltado ocultação munição atividade prorrogado correção identificação peritos participação detidos segundo considerado lima cabeça embarcação momento relação feira foragido pede parecido\n",
      "\n",
      "Texto: Vista aérea de Santarém\n",
      "Ádrio Denner/ AD Produções\n",
      "O paraense tem um vocabulário\n",
      "Tags: diferenciado negação felicidade estudos informação estado identidade carinhoso linguístico realidade funcionam satisfação função santareno junção curiosidades santarenos descontentamento entonação significa característico conjunção devido égua produções\n",
      "\n",
      "Texto: Novo vídeo mostra que assassino de Shinzo Abe atirou 2 vezes pelas costas.\n",
      "O ex-\n",
      "Tags: assassino significa shinzo estação realmente necessidade segundo desejo mencionava informação fabricação coração desempregado identificado atentado momento oito eleição popularidade ano legado caseira enforcamento atacado nacionalismo\n",
      "\n",
      "Texto: Relator no STF, Fachin vota contra marco temporal para demarcação de terras indí\n",
      "Tags: terra terras posicionamento situação existência julgamento congresso acampamento critério complexidade fachin miserabilidade índios temporal segundo cerca identidade julgado relação significa constituição garantem constitucionais aplicação demarcação\n",
      "\n",
      "Texto: Após um pedido de vista (mais tempo para análise do processo) do ministro Alexan\n",
      "Tags: julgamento julgado acampamento aplicação adiamento congresso manifestou apresentou proteção promulgação brasileira demarcação região podem segundo advogado processo frente critério argumentou porque pedido abaixo aplicado sendo\n",
      "\n"
     ]
    }
   ],
   "source": [
    "from keybert import KeyBERT\n",
    "\n",
    "kw_model = KeyBERT(model='all-MiniLM-L6-v2')\n",
    "\n",
    "for texto in df_itens['body'][:5]:\n",
    "    keywords = kw_model.extract_keywords(texto, keyphrase_ngram_range=(1,1), stop_words=pt_stopwords, top_n=25)\n",
    "    print(f\"Texto: {texto[:80]}\")\n",
    "    print(f\"Tags: {' '.join([ kw[0] for kw in keywords ])}\\n\")"
   ]
  },
  {
   "cell_type": "markdown",
   "metadata": {},
   "source": [
    "Em minha impressão inicial, o resultado do keybert não é muito melhor que o do TfidfVectorizer (se não for pior). Quero fazer uns testes com clusterização para comparar os resultados. "
   ]
  },
  {
   "cell_type": "code",
   "execution_count": 5,
   "metadata": {},
   "outputs": [],
   "source": [
    "from sklearn.feature_extraction.text import TfidfVectorizer\n",
    "from sklearn.metrics import silhouette_score\n",
    "from sklearn.decomposition import PCA\n",
    "from sklearn.cluster import KMeans\n",
    "\n",
    "import nltk\n",
    "from nltk.corpus import stopwords\n",
    "\n",
    "\n",
    "def get_stopwords(language:str):\n",
    "    nltk.download('stopwords', quiet=True)\n",
    "    return list(stopwords.words(language))\n",
    "\n",
    "\n",
    "pt_stopwords = get_stopwords('portuguese')"
   ]
  },
  {
   "cell_type": "code",
   "execution_count": 7,
   "metadata": {},
   "outputs": [],
   "source": [
    "titulo_e_caption = df_itens_train.apply(lambda x: x['title'] + ' ' + x['caption'] + ' ', axis=1)"
   ]
  },
  {
   "cell_type": "code",
   "execution_count": 10,
   "metadata": {},
   "outputs": [
    {
     "data": {
      "text/plain": [
       "(230043, 1000)"
      ]
     },
     "execution_count": 10,
     "metadata": {},
     "output_type": "execute_result"
    }
   ],
   "source": [
    "vectorizer = TfidfVectorizer(stop_words=pt_stopwords, max_features=1000, ngram_range=(1, 2))\n",
    "X = vectorizer.fit_transform(titulo_e_caption)\n",
    "X.shape"
   ]
  },
  {
   "cell_type": "code",
   "execution_count": 102,
   "metadata": {},
   "outputs": [
    {
     "data": {
      "text/plain": [
       "3.1562528831562493"
      ]
     },
     "execution_count": 102,
     "metadata": {},
     "output_type": "execute_result"
    }
   ],
   "source": [
    "sum(*X[0].toarray().tolist())"
   ]
  },
  {
   "cell_type": "code",
   "execution_count": 103,
   "metadata": {},
   "outputs": [
    {
     "data": {
      "text/plain": [
       "np.float64(0.014701247854658091)"
      ]
     },
     "execution_count": 103,
     "metadata": {},
     "output_type": "execute_result"
    }
   ],
   "source": [
    "kmeans = KMeans(n_clusters=1000, random_state=42)\n",
    "pred = kmeans.fit_predict(X)\n",
    "silhouette_score(X, pred)"
   ]
  },
  {
   "cell_type": "code",
   "execution_count": 105,
   "metadata": {},
   "outputs": [
    {
     "data": {
      "text/plain": [
       "np.float64(0.04588704247314016)"
      ]
     },
     "execution_count": 105,
     "metadata": {},
     "output_type": "execute_result"
    }
   ],
   "source": [
    "kmeans = KMeans(n_clusters=250, random_state=42)\n",
    "pred = kmeans.fit_predict(X)\n",
    "silhouette_score(X, pred)"
   ]
  },
  {
   "cell_type": "code",
   "execution_count": 72,
   "metadata": {},
   "outputs": [],
   "source": [
    "pca = PCA(n_components=100)\n",
    "X = pca.fit_transform(X)\n"
   ]
  },
  {
   "cell_type": "code",
   "execution_count": 37,
   "metadata": {},
   "outputs": [
    {
     "data": {
      "text/plain": [
       "np.float64(-0.019018639141071655)"
      ]
     },
     "execution_count": 37,
     "metadata": {},
     "output_type": "execute_result"
    }
   ],
   "source": [
    "kmeans = KMeans(n_clusters=1000, random_state=42)\n",
    "pred = kmeans.fit_predict(X)\n",
    "silhouette_score(X, pred)"
   ]
  },
  {
   "cell_type": "code",
   "execution_count": 38,
   "metadata": {},
   "outputs": [
    {
     "data": {
      "text/plain": [
       "np.float64(-0.009636024940991696)"
      ]
     },
     "execution_count": 38,
     "metadata": {},
     "output_type": "execute_result"
    }
   ],
   "source": [
    "kmeans = KMeans(n_clusters=5000, random_state=42)\n",
    "pred = kmeans.fit_predict(X)\n",
    "silhouette_score(X, pred)"
   ]
  },
  {
   "cell_type": "code",
   "execution_count": 41,
   "metadata": {},
   "outputs": [],
   "source": [
    "pca = PCA(n_components=250)\n",
    "X = pca.fit_transform(X)"
   ]
  },
  {
   "cell_type": "code",
   "execution_count": 42,
   "metadata": {},
   "outputs": [
    {
     "data": {
      "text/plain": [
       "np.float64(-0.0685648178245409)"
      ]
     },
     "execution_count": 42,
     "metadata": {},
     "output_type": "execute_result"
    }
   ],
   "source": [
    "kmeans = KMeans(n_clusters=1000, random_state=42)\n",
    "pred = kmeans.fit_predict(X)\n",
    "silhouette_score(X, pred)"
   ]
  },
  {
   "cell_type": "code",
   "execution_count": 44,
   "metadata": {},
   "outputs": [],
   "source": [
    "pca = PCA(n_components=50)\n",
    "X = pca.fit_transform(X)"
   ]
  },
  {
   "cell_type": "code",
   "execution_count": 45,
   "metadata": {},
   "outputs": [
    {
     "data": {
      "text/plain": [
       "np.float64(0.019160279358472997)"
      ]
     },
     "execution_count": 45,
     "metadata": {},
     "output_type": "execute_result"
    }
   ],
   "source": [
    "kmeans = KMeans(n_clusters=1000, random_state=42)\n",
    "pred = kmeans.fit_predict(X)\n",
    "silhouette_score(X, pred)"
   ]
  },
  {
   "cell_type": "code",
   "execution_count": 47,
   "metadata": {},
   "outputs": [],
   "source": [
    "pca = PCA(n_components=30)\n",
    "X = pca.fit_transform(X)"
   ]
  },
  {
   "cell_type": "code",
   "execution_count": 48,
   "metadata": {},
   "outputs": [
    {
     "data": {
      "text/plain": [
       "np.float64(0.040369964497262024)"
      ]
     },
     "execution_count": 48,
     "metadata": {},
     "output_type": "execute_result"
    }
   ],
   "source": [
    "kmeans = KMeans(n_clusters=1000, random_state=42)\n",
    "pred = kmeans.fit_predict(X)\n",
    "silhouette_score(X, pred)"
   ]
  },
  {
   "cell_type": "code",
   "execution_count": 49,
   "metadata": {},
   "outputs": [
    {
     "data": {
      "text/plain": [
       "np.float64(0.038249967480492475)"
      ]
     },
     "execution_count": 49,
     "metadata": {},
     "output_type": "execute_result"
    }
   ],
   "source": [
    "kmeans = KMeans(n_clusters=2000, random_state=42)\n",
    "pred = kmeans.fit_predict(X)\n",
    "silhouette_score(X, pred)"
   ]
  },
  {
   "cell_type": "code",
   "execution_count": 52,
   "metadata": {},
   "outputs": [
    {
     "data": {
      "text/plain": [
       "np.float64(0.043176097809229895)"
      ]
     },
     "execution_count": 52,
     "metadata": {},
     "output_type": "execute_result"
    }
   ],
   "source": [
    "kmeans = KMeans(n_clusters=500, random_state=42)\n",
    "pred = kmeans.fit_predict(X)\n",
    "silhouette_score(X, pred)"
   ]
  },
  {
   "cell_type": "code",
   "execution_count": 53,
   "metadata": {},
   "outputs": [
    {
     "data": {
      "text/plain": [
       "np.float64(0.07607773708598609)"
      ]
     },
     "execution_count": 53,
     "metadata": {},
     "output_type": "execute_result"
    }
   ],
   "source": [
    "kmeans = KMeans(n_clusters=50, random_state=42)\n",
    "pred = kmeans.fit_predict(X)\n",
    "silhouette_score(X, pred)"
   ]
  },
  {
   "cell_type": "code",
   "execution_count": 54,
   "metadata": {},
   "outputs": [
    {
     "data": {
      "text/plain": [
       "np.float64(0.11183555387619429)"
      ]
     },
     "execution_count": 54,
     "metadata": {},
     "output_type": "execute_result"
    }
   ],
   "source": [
    "kmeans = KMeans(n_clusters=25, random_state=42)\n",
    "pred = kmeans.fit_predict(X)\n",
    "silhouette_score(X, pred)"
   ]
  },
  {
   "cell_type": "code",
   "execution_count": 73,
   "metadata": {},
   "outputs": [],
   "source": [
    "pca = PCA(n_components=15)\n",
    "X = pca.fit_transform(X)"
   ]
  },
  {
   "cell_type": "code",
   "execution_count": 74,
   "metadata": {},
   "outputs": [
    {
     "data": {
      "text/plain": [
       "np.float64(0.0697702937210592)"
      ]
     },
     "execution_count": 74,
     "metadata": {},
     "output_type": "execute_result"
    }
   ],
   "source": [
    "kmeans = KMeans(n_clusters=500, random_state=42)\n",
    "pred = kmeans.fit_predict(X)\n",
    "silhouette_score(X, pred)"
   ]
  },
  {
   "cell_type": "code",
   "execution_count": 75,
   "metadata": {},
   "outputs": [
    {
     "data": {
      "text/plain": [
       "np.float64(0.08121404519464233)"
      ]
     },
     "execution_count": 75,
     "metadata": {},
     "output_type": "execute_result"
    }
   ],
   "source": [
    "kmeans = KMeans(n_clusters=250, random_state=42)\n",
    "pred = kmeans.fit_predict(X)\n",
    "silhouette_score(X, pred)"
   ]
  },
  {
   "cell_type": "code",
   "execution_count": 77,
   "metadata": {},
   "outputs": [],
   "source": [
    "pca = PCA(n_components=8)\n",
    "X = pca.fit_transform(X)"
   ]
  },
  {
   "cell_type": "code",
   "execution_count": 78,
   "metadata": {},
   "outputs": [
    {
     "data": {
      "text/plain": [
       "np.float64(0.11675571014470434)"
      ]
     },
     "execution_count": 78,
     "metadata": {},
     "output_type": "execute_result"
    }
   ],
   "source": [
    "kmeans = KMeans(n_clusters=500, random_state=42)\n",
    "pred = kmeans.fit_predict(X)\n",
    "silhouette_score(X, pred)"
   ]
  },
  {
   "cell_type": "code",
   "execution_count": 80,
   "metadata": {},
   "outputs": [],
   "source": [
    "pca = PCA(n_components=2)\n",
    "X = pca.fit_transform(X)"
   ]
  },
  {
   "cell_type": "code",
   "execution_count": 82,
   "metadata": {},
   "outputs": [
    {
     "data": {
      "image/png": "[encoded data removed]",
      "text/plain": [
       "<Figure size 640x480 with 1 Axes>"
      ]
     },
     "metadata": {},
     "output_type": "display_data"
    }
   ],
   "source": [
    "sns.scatterplot(x=X[:,0], y=X[:,1]);"
   ]
  },
  {
   "cell_type": "markdown",
   "metadata": {},
   "source": [
    "não temos grupos bem definidos. Faz sentido não estar dando certo ate agora.\n",
    "\n",
    "Tallvez uma tentativa usando o body"
   ]
  },
  {
   "cell_type": "code",
   "execution_count": 8,
   "metadata": {},
   "outputs": [],
   "source": [
    "vectorizer = TfidfVectorizer(stop_words=pt_stopwords, max_features=1000)\n",
    "X = vectorizer.fit_transform(df_itens_train['body'])"
   ]
  },
  {
   "cell_type": "code",
   "execution_count": 107,
   "metadata": {},
   "outputs": [],
   "source": [
    "pca = PCA(n_components=100)\n",
    "X_pca = pca.fit_transform(X)"
   ]
  },
  {
   "cell_type": "code",
   "execution_count": 108,
   "metadata": {},
   "outputs": [
    {
     "data": {
      "text/plain": [
       "np.float64(0.06582745426411792)"
      ]
     },
     "execution_count": 108,
     "metadata": {},
     "output_type": "execute_result"
    }
   ],
   "source": [
    "kmeans = KMeans(n_clusters=500, random_state=42)\n",
    "pred = kmeans.fit_predict(X_pca)\n",
    "silhouette_score(X_pca, pred)"
   ]
  },
  {
   "cell_type": "code",
   "execution_count": 109,
   "metadata": {},
   "outputs": [],
   "source": [
    "pca = PCA(n_components=25)\n",
    "X_pca = pca.fit_transform(X)"
   ]
  },
  {
   "cell_type": "code",
   "execution_count": 110,
   "metadata": {},
   "outputs": [
    {
     "data": {
      "text/plain": [
       "np.float64(0.09465527375433468)"
      ]
     },
     "execution_count": 110,
     "metadata": {},
     "output_type": "execute_result"
    }
   ],
   "source": [
    "kmeans = KMeans(n_clusters=250, random_state=42)\n",
    "pred = kmeans.fit_predict(X_pca)\n",
    "silhouette_score(X_pca, pred)"
   ]
  },
  {
   "cell_type": "code",
   "execution_count": 111,
   "metadata": {},
   "outputs": [],
   "source": [
    "pca = PCA(n_components=2)\n",
    "X_pca = pca.fit_transform(X)"
   ]
  },
  {
   "cell_type": "code",
   "execution_count": 112,
   "metadata": {},
   "outputs": [
    {
     "data": {
      "image/png": "[encoded data removed]",
      "text/plain": [
       "<Figure size 640x480 with 1 Axes>"
      ]
     },
     "metadata": {},
     "output_type": "display_data"
    }
   ],
   "source": [
    "sns.scatterplot(x=X_pca[:,0], y=X_pca[:,1]);"
   ]
  },
  {
   "cell_type": "code",
   "execution_count": 6,
   "metadata": {},
   "outputs": [],
   "source": [
    "from sklearn.cluster import DBSCAN"
   ]
  },
  {
   "cell_type": "code",
   "execution_count": 9,
   "metadata": {},
   "outputs": [
    {
     "data": {
      "text/plain": [
       "(230043, 1000)"
      ]
     },
     "execution_count": 9,
     "metadata": {},
     "output_type": "execute_result"
    }
   ],
   "source": [
    "vectorizer = TfidfVectorizer(stop_words=pt_stopwords, max_features=1000, ngram_range=(1, 2))\n",
    "X = vectorizer.fit_transform(titulo_e_caption)\n",
    "X.shape"
   ]
  },
  {
   "cell_type": "code",
   "execution_count": 12,
   "metadata": {},
   "outputs": [
    {
     "data": {
      "text/plain": [
       "np.float64(-0.2608786486022192)"
      ]
     },
     "execution_count": 12,
     "metadata": {},
     "output_type": "execute_result"
    }
   ],
   "source": [
    "dbscan = DBSCAN(eps=0.5, min_samples=5)\n",
    "pred = dbscan.fit_predict(X)\n",
    "silhouette_score(X, pred)"
   ]
  },
  {
   "cell_type": "code",
   "execution_count": 13,
   "metadata": {},
   "outputs": [],
   "source": [
    "pca = PCA(n_components=250)\n",
    "X_pca = pca.fit_transform(X)"
   ]
  },
  {
   "cell_type": "code",
   "execution_count": 14,
   "metadata": {},
   "outputs": [
    {
     "data": {
      "text/plain": [
       "np.float64(-0.12481318215949104)"
      ]
     },
     "execution_count": 14,
     "metadata": {},
     "output_type": "execute_result"
    }
   ],
   "source": [
    "dbscan = DBSCAN(eps=0.5, min_samples=5)\n",
    "pred = dbscan.fit_predict(X_pca)\n",
    "silhouette_score(X_pca, pred)"
   ]
  },
  {
   "cell_type": "code",
   "execution_count": 15,
   "metadata": {},
   "outputs": [],
   "source": [
    "pca = PCA(n_components=10)\n",
    "X_pca = pca.fit_transform(X)"
   ]
  },
  {
   "cell_type": "code",
   "execution_count": 20,
   "metadata": {},
   "outputs": [
    {
     "name": "stdout",
     "output_type": "stream",
     "text": [
      "Sem memoria suficiente....\n"
     ]
    }
   ],
   "source": [
    "try:\n",
    "    dbscan = DBSCAN(eps=0.5, min_samples=5)\n",
    "    pred = dbscan.fit_predict(X_pca)\n",
    "    silhouette_score(X_pca, pred)\n",
    "except MemoryError:\n",
    "    print('Sem memoria suficiente....')"
   ]
  },
  {
   "cell_type": "code",
   "execution_count": 10,
   "metadata": {},
   "outputs": [],
   "source": [
    "pca = PCA(n_components=100)\n",
    "X_pca = pca.fit_transform(X)"
   ]
  },
  {
   "cell_type": "code",
   "execution_count": 11,
   "metadata": {},
   "outputs": [
    {
     "ename": "",
     "evalue": "",
     "output_type": "error",
     "traceback": [
      "\u001b[1;31mThe Kernel crashed while executing code in the current cell or a previous cell. \n",
      "\u001b[1;31mPlease review the code in the cell(s) to identify a possible cause of the failure. \n",
      "\u001b[1;31mClick <a href='https://aka.ms/vscodeJupyterKernelCrash'>here</a> for more info. \n",
      "\u001b[1;31mView Jupyter <a href='command:jupyter.viewOutput'>log</a> for further details."
     ]
    }
   ],
   "source": [
    "try:\n",
    "    dbscan = DBSCAN(eps=0.5, min_samples=5)\n",
    "    pred = dbscan.fit_predict(X_pca)\n",
    "    silhouette_score(X_pca, pred)\n",
    "except MemoryError:\n",
    "    print('Sem memoria suficiente....')"
   ]
  },
  {
   "cell_type": "markdown",
   "metadata": {},
   "source": [
    "DBSCAN também não deu muito certo. Esse algoritmo está consumindo muita memória. Aparentemente a clusterização não está se mostando uma opção viável no momento. Vou analisar melhor outros dados."
   ]
  },
  {
   "cell_type": "markdown",
   "metadata": {},
   "source": [
    "A clusterização não tem se mostrado uma opção viável para busca de textos similares."
   ]
  },
  {
   "cell_type": "markdown",
   "metadata": {},
   "source": [
    "#### Testando o calculo de similaridade a partir da função cosine_similarity"
   ]
  },
  {
   "cell_type": "markdown",
   "metadata": {},
   "source": [
    "Encontrei outra função para calcular a distancia entre 2 textos, vou testar essa nova função."
   ]
  },
  {
   "cell_type": "code",
   "execution_count": 6,
   "metadata": {},
   "outputs": [],
   "source": [
    "from sklearn.metrics.pairwise import cosine_similarity"
   ]
  },
  {
   "cell_type": "code",
   "execution_count": null,
   "metadata": {},
   "outputs": [],
   "source": [
    "vectorizer = TfidfVectorizer(stop_words=pt_stopwords, max_features=5000)\n",
    "X = vectorizer.fit_transform(titulo_e_caption)"
   ]
  },
  {
   "cell_type": "code",
   "execution_count": 9,
   "metadata": {},
   "outputs": [
    {
     "name": "stdout",
     "output_type": "stream",
     "text": [
      "Sem memoria suficiente....\n",
      "Unable to allocate 391. GiB for an array with shape (52485569509,) and data type int64\n"
     ]
    }
   ],
   "source": [
    "try:\n",
    "    similaridades = cosine_similarity(X)\n",
    "except MemoryError as e:\n",
    "    print('Sem memoria suficiente....')\n",
    "    print(e)"
   ]
  },
  {
   "cell_type": "code",
   "execution_count": 32,
   "metadata": {},
   "outputs": [],
   "source": [
    "from sklearn.utils.extmath import safe_sparse_dot\n",
    "from tqdm import tqdm\n",
    "\n",
    "def compute_similarity(tfidf_matrix, top_n=5):\n",
    "    similarities = []\n",
    "    for i in tqdm(range(tfidf_matrix.shape[0])):\n",
    "        row_vector = tfidf_matrix[i]\n",
    "        sim_scores = safe_sparse_dot(row_vector, tfidf_matrix.T, dense_output=True)\n",
    "        top_indices = sim_scores.argsort()[-top_n:][::-1]\n",
    "        similarities.append((i, top_indices))\n",
    "    return similarities"
   ]
  },
  {
   "cell_type": "code",
   "execution_count": 20,
   "metadata": {},
   "outputs": [
    {
     "name": "stderr",
     "output_type": "stream",
     "text": [
      "  0%|          | 0/230043 [00:00<?, ?it/s]"
     ]
    },
    {
     "name": "stderr",
     "output_type": "stream",
     "text": [
      "  3%|▎         | 6744/230043 [59:33<32:52:13,  1.89it/s]    \n"
     ]
    },
    {
     "name": "stdout",
     "output_type": "stream",
     "text": [
      "Sem memoria suficiente....\n",
      "Unable to allocate 75.0 MiB for an array with shape (19661707,) and data type int32\n"
     ]
    }
   ],
   "source": [
    "try:\n",
    "    similaridades = compute_similarity(X, top_n=10)\n",
    "except MemoryError as e:\n",
    "    print('Sem memoria suficiente....')\n",
    "    print(e)"
   ]
  },
  {
   "cell_type": "markdown",
   "metadata": {},
   "source": [
    "A quantidade de itens é muito grande, mas talvez a gente não tenha que se preocupar com as matérias mais antigas em um primeiro momento...."
   ]
  },
  {
   "cell_type": "code",
   "execution_count": 8,
   "metadata": {},
   "outputs": [
    {
     "data": {
      "text/plain": [
       "Timestamp('2022-08-01 02:57:16+0000', tz='UTC')"
      ]
     },
     "execution_count": 8,
     "metadata": {},
     "output_type": "execute_result"
    }
   ],
   "source": [
    "# 2 semanas antes do ultimo item\n",
    "filtro_data = pd.to_datetime(df_itens_test['issued'].max()) - pd.Timedelta(days=14)\n",
    "filtro_data"
   ]
  },
  {
   "cell_type": "code",
   "execution_count": 20,
   "metadata": {},
   "outputs": [
    {
     "data": {
      "text/html": [
       "<style>#sk-container-id-2 {\n",
       "  /* Definition of color scheme common for light and dark mode */\n",
       "  --sklearn-color-text: #000;\n",
       "  --sklearn-color-text-muted: #666;\n",
       "  --sklearn-color-line: gray;\n",
       "  /* Definition of color scheme for unfitted estimators */\n",
       "  --sklearn-color-unfitted-level-0: #fff5e6;\n",
       "  --sklearn-color-unfitted-level-1: #f6e4d2;\n",
       "  --sklearn-color-unfitted-level-2: #ffe0b3;\n",
       "  --sklearn-color-unfitted-level-3: chocolate;\n",
       "  /* Definition of color scheme for fitted estimators */\n",
       "  --sklearn-color-fitted-level-0: #f0f8ff;\n",
       "  --sklearn-color-fitted-level-1: #d4ebff;\n",
       "  --sklearn-color-fitted-level-2: #b3dbfd;\n",
       "  --sklearn-color-fitted-level-3: cornflowerblue;\n",
       "\n",
       "  /* Specific color for light theme */\n",
       "  --sklearn-color-text-on-default-background: var(--sg-text-color, var(--theme-code-foreground, var(--jp-content-font-color1, black)));\n",
       "  --sklearn-color-background: var(--sg-background-color, var(--theme-background, var(--jp-layout-color0, white)));\n",
       "  --sklearn-color-border-box: var(--sg-text-color, var(--theme-code-foreground, var(--jp-content-font-color1, black)));\n",
       "  --sklearn-color-icon: #696969;\n",
       "\n",
       "  @media (prefers-color-scheme: dark) {\n",
       "    /* Redefinition of color scheme for dark theme */\n",
       "    --sklearn-color-text-on-default-background: var(--sg-text-color, var(--theme-code-foreground, var(--jp-content-font-color1, white)));\n",
       "    --sklearn-color-background: var(--sg-background-color, var(--theme-background, var(--jp-layout-color0, #111)));\n",
       "    --sklearn-color-border-box: var(--sg-text-color, var(--theme-code-foreground, var(--jp-content-font-color1, white)));\n",
       "    --sklearn-color-icon: #878787;\n",
       "  }\n",
       "}\n",
       "\n",
       "#sk-container-id-2 {\n",
       "  color: var(--sklearn-color-text);\n",
       "}\n",
       "\n",
       "#sk-container-id-2 pre {\n",
       "  padding: 0;\n",
       "}\n",
       "\n",
       "#sk-container-id-2 input.sk-hidden--visually {\n",
       "  border: 0;\n",
       "  clip: rect(1px 1px 1px 1px);\n",
       "  clip: rect(1px, 1px, 1px, 1px);\n",
       "  height: 1px;\n",
       "  margin: -1px;\n",
       "  overflow: hidden;\n",
       "  padding: 0;\n",
       "  position: absolute;\n",
       "  width: 1px;\n",
       "}\n",
       "\n",
       "#sk-container-id-2 div.sk-dashed-wrapped {\n",
       "  border: 1px dashed var(--sklearn-color-line);\n",
       "  margin: 0 0.4em 0.5em 0.4em;\n",
       "  box-sizing: border-box;\n",
       "  padding-bottom: 0.4em;\n",
       "  background-color: var(--sklearn-color-background);\n",
       "}\n",
       "\n",
       "#sk-container-id-2 div.sk-container {\n",
       "  /* jupyter's `normalize.less` sets `[hidden] { display: none; }`\n",
       "     but bootstrap.min.css set `[hidden] { display: none !important; }`\n",
       "     so we also need the `!important` here to be able to override the\n",
       "     default hidden behavior on the sphinx rendered scikit-learn.org.\n",
       "     See: https://github.com/scikit-learn/scikit-learn/issues/21755 */\n",
       "  display: inline-block !important;\n",
       "  position: relative;\n",
       "}\n",
       "\n",
       "#sk-container-id-2 div.sk-text-repr-fallback {\n",
       "  display: none;\n",
       "}\n",
       "\n",
       "div.sk-parallel-item,\n",
       "div.sk-serial,\n",
       "div.sk-item {\n",
       "  /* draw centered vertical line to link estimators */\n",
       "  background-image: linear-gradient(var(--sklearn-color-text-on-default-background), var(--sklearn-color-text-on-default-background));\n",
       "  background-size: 2px 100%;\n",
       "  background-repeat: no-repeat;\n",
       "  background-position: center center;\n",
       "}\n",
       "\n",
       "/* Parallel-specific style estimator block */\n",
       "\n",
       "#sk-container-id-2 div.sk-parallel-item::after {\n",
       "  content: \"\";\n",
       "  width: 100%;\n",
       "  border-bottom: 2px solid var(--sklearn-color-text-on-default-background);\n",
       "  flex-grow: 1;\n",
       "}\n",
       "\n",
       "#sk-container-id-2 div.sk-parallel {\n",
       "  display: flex;\n",
       "  align-items: stretch;\n",
       "  justify-content: center;\n",
       "  background-color: var(--sklearn-color-background);\n",
       "  position: relative;\n",
       "}\n",
       "\n",
       "#sk-container-id-2 div.sk-parallel-item {\n",
       "  display: flex;\n",
       "  flex-direction: column;\n",
       "}\n",
       "\n",
       "#sk-container-id-2 div.sk-parallel-item:first-child::after {\n",
       "  align-self: flex-end;\n",
       "  width: 50%;\n",
       "}\n",
       "\n",
       "#sk-container-id-2 div.sk-parallel-item:last-child::after {\n",
       "  align-self: flex-start;\n",
       "  width: 50%;\n",
       "}\n",
       "\n",
       "#sk-container-id-2 div.sk-parallel-item:only-child::after {\n",
       "  width: 0;\n",
       "}\n",
       "\n",
       "/* Serial-specific style estimator block */\n",
       "\n",
       "#sk-container-id-2 div.sk-serial {\n",
       "  display: flex;\n",
       "  flex-direction: column;\n",
       "  align-items: center;\n",
       "  background-color: var(--sklearn-color-background);\n",
       "  padding-right: 1em;\n",
       "  padding-left: 1em;\n",
       "}\n",
       "\n",
       "\n",
       "/* Toggleable style: style used for estimator/Pipeline/ColumnTransformer box that is\n",
       "clickable and can be expanded/collapsed.\n",
       "- Pipeline and ColumnTransformer use this feature and define the default style\n",
       "- Estimators will overwrite some part of the style using the `sk-estimator` class\n",
       "*/\n",
       "\n",
       "/* Pipeline and ColumnTransformer style (default) */\n",
       "\n",
       "#sk-container-id-2 div.sk-toggleable {\n",
       "  /* Default theme specific background. It is overwritten whether we have a\n",
       "  specific estimator or a Pipeline/ColumnTransformer */\n",
       "  background-color: var(--sklearn-color-background);\n",
       "}\n",
       "\n",
       "/* Toggleable label */\n",
       "#sk-container-id-2 label.sk-toggleable__label {\n",
       "  cursor: pointer;\n",
       "  display: flex;\n",
       "  width: 100%;\n",
       "  margin-bottom: 0;\n",
       "  padding: 0.5em;\n",
       "  box-sizing: border-box;\n",
       "  text-align: center;\n",
       "  align-items: start;\n",
       "  justify-content: space-between;\n",
       "  gap: 0.5em;\n",
       "}\n",
       "\n",
       "#sk-container-id-2 label.sk-toggleable__label .caption {\n",
       "  font-size: 0.6rem;\n",
       "  font-weight: lighter;\n",
       "  color: var(--sklearn-color-text-muted);\n",
       "}\n",
       "\n",
       "#sk-container-id-2 label.sk-toggleable__label-arrow:before {\n",
       "  /* Arrow on the left of the label */\n",
       "  content: \"▸\";\n",
       "  float: left;\n",
       "  margin-right: 0.25em;\n",
       "  color: var(--sklearn-color-icon);\n",
       "}\n",
       "\n",
       "#sk-container-id-2 label.sk-toggleable__label-arrow:hover:before {\n",
       "  color: var(--sklearn-color-text);\n",
       "}\n",
       "\n",
       "/* Toggleable content - dropdown */\n",
       "\n",
       "#sk-container-id-2 div.sk-toggleable__content {\n",
       "  max-height: 0;\n",
       "  max-width: 0;\n",
       "  overflow: hidden;\n",
       "  text-align: left;\n",
       "  /* unfitted */\n",
       "  background-color: var(--sklearn-color-unfitted-level-0);\n",
       "}\n",
       "\n",
       "#sk-container-id-2 div.sk-toggleable__content.fitted {\n",
       "  /* fitted */\n",
       "  background-color: var(--sklearn-color-fitted-level-0);\n",
       "}\n",
       "\n",
       "#sk-container-id-2 div.sk-toggleable__content pre {\n",
       "  margin: 0.2em;\n",
       "  border-radius: 0.25em;\n",
       "  color: var(--sklearn-color-text);\n",
       "  /* unfitted */\n",
       "  background-color: var(--sklearn-color-unfitted-level-0);\n",
       "}\n",
       "\n",
       "#sk-container-id-2 div.sk-toggleable__content.fitted pre {\n",
       "  /* unfitted */\n",
       "  background-color: var(--sklearn-color-fitted-level-0);\n",
       "}\n",
       "\n",
       "#sk-container-id-2 input.sk-toggleable__control:checked~div.sk-toggleable__content {\n",
       "  /* Expand drop-down */\n",
       "  max-height: 200px;\n",
       "  max-width: 100%;\n",
       "  overflow: auto;\n",
       "}\n",
       "\n",
       "#sk-container-id-2 input.sk-toggleable__control:checked~label.sk-toggleable__label-arrow:before {\n",
       "  content: \"▾\";\n",
       "}\n",
       "\n",
       "/* Pipeline/ColumnTransformer-specific style */\n",
       "\n",
       "#sk-container-id-2 div.sk-label input.sk-toggleable__control:checked~label.sk-toggleable__label {\n",
       "  color: var(--sklearn-color-text);\n",
       "  background-color: var(--sklearn-color-unfitted-level-2);\n",
       "}\n",
       "\n",
       "#sk-container-id-2 div.sk-label.fitted input.sk-toggleable__control:checked~label.sk-toggleable__label {\n",
       "  background-color: var(--sklearn-color-fitted-level-2);\n",
       "}\n",
       "\n",
       "/* Estimator-specific style */\n",
       "\n",
       "/* Colorize estimator box */\n",
       "#sk-container-id-2 div.sk-estimator input.sk-toggleable__control:checked~label.sk-toggleable__label {\n",
       "  /* unfitted */\n",
       "  background-color: var(--sklearn-color-unfitted-level-2);\n",
       "}\n",
       "\n",
       "#sk-container-id-2 div.sk-estimator.fitted input.sk-toggleable__control:checked~label.sk-toggleable__label {\n",
       "  /* fitted */\n",
       "  background-color: var(--sklearn-color-fitted-level-2);\n",
       "}\n",
       "\n",
       "#sk-container-id-2 div.sk-label label.sk-toggleable__label,\n",
       "#sk-container-id-2 div.sk-label label {\n",
       "  /* The background is the default theme color */\n",
       "  color: var(--sklearn-color-text-on-default-background);\n",
       "}\n",
       "\n",
       "/* On hover, darken the color of the background */\n",
       "#sk-container-id-2 div.sk-label:hover label.sk-toggleable__label {\n",
       "  color: var(--sklearn-color-text);\n",
       "  background-color: var(--sklearn-color-unfitted-level-2);\n",
       "}\n",
       "\n",
       "/* Label box, darken color on hover, fitted */\n",
       "#sk-container-id-2 div.sk-label.fitted:hover label.sk-toggleable__label.fitted {\n",
       "  color: var(--sklearn-color-text);\n",
       "  background-color: var(--sklearn-color-fitted-level-2);\n",
       "}\n",
       "\n",
       "/* Estimator label */\n",
       "\n",
       "#sk-container-id-2 div.sk-label label {\n",
       "  font-family: monospace;\n",
       "  font-weight: bold;\n",
       "  display: inline-block;\n",
       "  line-height: 1.2em;\n",
       "}\n",
       "\n",
       "#sk-container-id-2 div.sk-label-container {\n",
       "  text-align: center;\n",
       "}\n",
       "\n",
       "/* Estimator-specific */\n",
       "#sk-container-id-2 div.sk-estimator {\n",
       "  font-family: monospace;\n",
       "  border: 1px dotted var(--sklearn-color-border-box);\n",
       "  border-radius: 0.25em;\n",
       "  box-sizing: border-box;\n",
       "  margin-bottom: 0.5em;\n",
       "  /* unfitted */\n",
       "  background-color: var(--sklearn-color-unfitted-level-0);\n",
       "}\n",
       "\n",
       "#sk-container-id-2 div.sk-estimator.fitted {\n",
       "  /* fitted */\n",
       "  background-color: var(--sklearn-color-fitted-level-0);\n",
       "}\n",
       "\n",
       "/* on hover */\n",
       "#sk-container-id-2 div.sk-estimator:hover {\n",
       "  /* unfitted */\n",
       "  background-color: var(--sklearn-color-unfitted-level-2);\n",
       "}\n",
       "\n",
       "#sk-container-id-2 div.sk-estimator.fitted:hover {\n",
       "  /* fitted */\n",
       "  background-color: var(--sklearn-color-fitted-level-2);\n",
       "}\n",
       "\n",
       "/* Specification for estimator info (e.g. \"i\" and \"?\") */\n",
       "\n",
       "/* Common style for \"i\" and \"?\" */\n",
       "\n",
       ".sk-estimator-doc-link,\n",
       "a:link.sk-estimator-doc-link,\n",
       "a:visited.sk-estimator-doc-link {\n",
       "  float: right;\n",
       "  font-size: smaller;\n",
       "  line-height: 1em;\n",
       "  font-family: monospace;\n",
       "  background-color: var(--sklearn-color-background);\n",
       "  border-radius: 1em;\n",
       "  height: 1em;\n",
       "  width: 1em;\n",
       "  text-decoration: none !important;\n",
       "  margin-left: 0.5em;\n",
       "  text-align: center;\n",
       "  /* unfitted */\n",
       "  border: var(--sklearn-color-unfitted-level-1) 1pt solid;\n",
       "  color: var(--sklearn-color-unfitted-level-1);\n",
       "}\n",
       "\n",
       ".sk-estimator-doc-link.fitted,\n",
       "a:link.sk-estimator-doc-link.fitted,\n",
       "a:visited.sk-estimator-doc-link.fitted {\n",
       "  /* fitted */\n",
       "  border: var(--sklearn-color-fitted-level-1) 1pt solid;\n",
       "  color: var(--sklearn-color-fitted-level-1);\n",
       "}\n",
       "\n",
       "/* On hover */\n",
       "div.sk-estimator:hover .sk-estimator-doc-link:hover,\n",
       ".sk-estimator-doc-link:hover,\n",
       "div.sk-label-container:hover .sk-estimator-doc-link:hover,\n",
       ".sk-estimator-doc-link:hover {\n",
       "  /* unfitted */\n",
       "  background-color: var(--sklearn-color-unfitted-level-3);\n",
       "  color: var(--sklearn-color-background);\n",
       "  text-decoration: none;\n",
       "}\n",
       "\n",
       "div.sk-estimator.fitted:hover .sk-estimator-doc-link.fitted:hover,\n",
       ".sk-estimator-doc-link.fitted:hover,\n",
       "div.sk-label-container:hover .sk-estimator-doc-link.fitted:hover,\n",
       ".sk-estimator-doc-link.fitted:hover {\n",
       "  /* fitted */\n",
       "  background-color: var(--sklearn-color-fitted-level-3);\n",
       "  color: var(--sklearn-color-background);\n",
       "  text-decoration: none;\n",
       "}\n",
       "\n",
       "/* Span, style for the box shown on hovering the info icon */\n",
       ".sk-estimator-doc-link span {\n",
       "  display: none;\n",
       "  z-index: 9999;\n",
       "  position: relative;\n",
       "  font-weight: normal;\n",
       "  right: .2ex;\n",
       "  padding: .5ex;\n",
       "  margin: .5ex;\n",
       "  width: min-content;\n",
       "  min-width: 20ex;\n",
       "  max-width: 50ex;\n",
       "  color: var(--sklearn-color-text);\n",
       "  box-shadow: 2pt 2pt 4pt #999;\n",
       "  /* unfitted */\n",
       "  background: var(--sklearn-color-unfitted-level-0);\n",
       "  border: .5pt solid var(--sklearn-color-unfitted-level-3);\n",
       "}\n",
       "\n",
       ".sk-estimator-doc-link.fitted span {\n",
       "  /* fitted */\n",
       "  background: var(--sklearn-color-fitted-level-0);\n",
       "  border: var(--sklearn-color-fitted-level-3);\n",
       "}\n",
       "\n",
       ".sk-estimator-doc-link:hover span {\n",
       "  display: block;\n",
       "}\n",
       "\n",
       "/* \"?\"-specific style due to the `<a>` HTML tag */\n",
       "\n",
       "#sk-container-id-2 a.estimator_doc_link {\n",
       "  float: right;\n",
       "  font-size: 1rem;\n",
       "  line-height: 1em;\n",
       "  font-family: monospace;\n",
       "  background-color: var(--sklearn-color-background);\n",
       "  border-radius: 1rem;\n",
       "  height: 1rem;\n",
       "  width: 1rem;\n",
       "  text-decoration: none;\n",
       "  /* unfitted */\n",
       "  color: var(--sklearn-color-unfitted-level-1);\n",
       "  border: var(--sklearn-color-unfitted-level-1) 1pt solid;\n",
       "}\n",
       "\n",
       "#sk-container-id-2 a.estimator_doc_link.fitted {\n",
       "  /* fitted */\n",
       "  border: var(--sklearn-color-fitted-level-1) 1pt solid;\n",
       "  color: var(--sklearn-color-fitted-level-1);\n",
       "}\n",
       "\n",
       "/* On hover */\n",
       "#sk-container-id-2 a.estimator_doc_link:hover {\n",
       "  /* unfitted */\n",
       "  background-color: var(--sklearn-color-unfitted-level-3);\n",
       "  color: var(--sklearn-color-background);\n",
       "  text-decoration: none;\n",
       "}\n",
       "\n",
       "#sk-container-id-2 a.estimator_doc_link.fitted:hover {\n",
       "  /* fitted */\n",
       "  background-color: var(--sklearn-color-fitted-level-3);\n",
       "}\n",
       "</style><div id=\"sk-container-id-2\" class=\"sk-top-container\"><div class=\"sk-text-repr-fallback\"><pre>TfidfVectorizer(max_df=0.8, max_features=250, min_df=0.2, ngram_range=(1, 2),\n",
       "                stop_words=[&#x27;a&#x27;, &#x27;à&#x27;, &#x27;ao&#x27;, &#x27;aos&#x27;, &#x27;aquela&#x27;, &#x27;aquelas&#x27;,\n",
       "                            &#x27;aquele&#x27;, &#x27;aqueles&#x27;, &#x27;aquilo&#x27;, &#x27;as&#x27;, &#x27;às&#x27;, &#x27;até&#x27;,\n",
       "                            &#x27;com&#x27;, &#x27;como&#x27;, &#x27;da&#x27;, &#x27;das&#x27;, &#x27;de&#x27;, &#x27;dela&#x27;, &#x27;delas&#x27;,\n",
       "                            &#x27;dele&#x27;, &#x27;deles&#x27;, &#x27;depois&#x27;, &#x27;do&#x27;, &#x27;dos&#x27;, &#x27;e&#x27;, &#x27;é&#x27;,\n",
       "                            &#x27;ela&#x27;, &#x27;elas&#x27;, &#x27;ele&#x27;, &#x27;eles&#x27;, ...])</pre><b>In a Jupyter environment, please rerun this cell to show the HTML representation or trust the notebook. <br />On GitHub, the HTML representation is unable to render, please try loading this page with nbviewer.org.</b></div><div class=\"sk-container\" hidden><div class=\"sk-item\"><div class=\"sk-estimator fitted sk-toggleable\"><input class=\"sk-toggleable__control sk-hidden--visually\" id=\"sk-estimator-id-2\" type=\"checkbox\" checked><label for=\"sk-estimator-id-2\" class=\"sk-toggleable__label fitted sk-toggleable__label-arrow\"><div><div>TfidfVectorizer</div></div><div><a class=\"sk-estimator-doc-link fitted\" rel=\"noreferrer\" target=\"_blank\" href=\"https://scikit-learn.org/1.6/modules/generated/sklearn.feature_extraction.text.TfidfVectorizer.html\">?<span>Documentation for TfidfVectorizer</span></a><span class=\"sk-estimator-doc-link fitted\">i<span>Fitted</span></span></div></label><div class=\"sk-toggleable__content fitted\"><pre>TfidfVectorizer(max_df=0.8, max_features=250, min_df=0.2, ngram_range=(1, 2),\n",
       "                stop_words=[&#x27;a&#x27;, &#x27;à&#x27;, &#x27;ao&#x27;, &#x27;aos&#x27;, &#x27;aquela&#x27;, &#x27;aquelas&#x27;,\n",
       "                            &#x27;aquele&#x27;, &#x27;aqueles&#x27;, &#x27;aquilo&#x27;, &#x27;as&#x27;, &#x27;às&#x27;, &#x27;até&#x27;,\n",
       "                            &#x27;com&#x27;, &#x27;como&#x27;, &#x27;da&#x27;, &#x27;das&#x27;, &#x27;de&#x27;, &#x27;dela&#x27;, &#x27;delas&#x27;,\n",
       "                            &#x27;dele&#x27;, &#x27;deles&#x27;, &#x27;depois&#x27;, &#x27;do&#x27;, &#x27;dos&#x27;, &#x27;e&#x27;, &#x27;é&#x27;,\n",
       "                            &#x27;ela&#x27;, &#x27;elas&#x27;, &#x27;ele&#x27;, &#x27;eles&#x27;, ...])</pre></div> </div></div></div></div>"
      ],
      "text/plain": [
       "TfidfVectorizer(max_df=0.8, max_features=250, min_df=0.2, ngram_range=(1, 2),\n",
       "                stop_words=['a', 'à', 'ao', 'aos', 'aquela', 'aquelas',\n",
       "                            'aquele', 'aqueles', 'aquilo', 'as', 'às', 'até',\n",
       "                            'com', 'como', 'da', 'das', 'de', 'dela', 'delas',\n",
       "                            'dele', 'deles', 'depois', 'do', 'dos', 'e', 'é',\n",
       "                            'ela', 'elas', 'ele', 'eles', ...])"
      ]
     },
     "execution_count": 20,
     "metadata": {},
     "output_type": "execute_result"
    }
   ],
   "source": [
    "vectorizer = TfidfVectorizer(stop_words=pt_stopwords, max_features=250, ngram_range=(1, 2), min_df=0.2, max_df=0.8)\n",
    "vectorizer.fit(df_itens_train['body'])"
   ]
  },
  {
   "cell_type": "code",
   "execution_count": 21,
   "metadata": {},
   "outputs": [
    {
     "data": {
      "text/plain": [
       "'10, acordo, ainda, além, ano, anos, antes, após, brasil, casa, caso, cidade, civil, conta, contra, desde, desta, dia, dias, disse, divulgação, diz, dois, duas, durante, estado, fazer, federal, feira, g1, grande, informou, local, maior, meio, mil, momento, nesta, notícias, onde, outras, outros, parte, paulo, pessoas, pode, polícia, porque, público, região, reprodução, rio, saúde, segunda, segundo, sendo, sexta, sobre, ter, todo, todos, três, tv, vai, veja, veja notícias, vídeos'"
      ]
     },
     "execution_count": 21,
     "metadata": {},
     "output_type": "execute_result"
    }
   ],
   "source": [
    "', '.join(vectorizer.get_feature_names_out())"
   ]
  },
  {
   "cell_type": "code",
   "execution_count": 22,
   "metadata": {},
   "outputs": [],
   "source": [
    "itens_filtrado = df_itens_test[pd.to_datetime(df_itens_test['issued']) >= filtro_data]\n",
    "X = vectorizer.transform(itens_filtrado['body'])\n"
   ]
  },
  {
   "cell_type": "code",
   "execution_count": 36,
   "metadata": {},
   "outputs": [
    {
     "name": "stderr",
     "output_type": "stream",
     "text": [
      "100%|██████████| 1081/1081 [00:00<00:00, 1350.28it/s]\n"
     ]
    }
   ],
   "source": [
    "try:\n",
    "    similaridades = compute_similarity(X)\n",
    "except MemoryError as e:\n",
    "    print('Sem memoria suficiente....')\n",
    "    print(e)"
   ]
  },
  {
   "cell_type": "code",
   "execution_count": 37,
   "metadata": {},
   "outputs": [
    {
     "data": {
      "text/plain": [
       "[(0, array([[595, 117, 325, ..., 249, 556,   0]], shape=(1, 1081))),\n",
       " (1, array([[1065,  117,  595, ...,  620,  431,    1]], shape=(1, 1081))),\n",
       " (2, array([[1050, 1065,  414, ...,  567,  548,    2]], shape=(1, 1081)))]"
      ]
     },
     "execution_count": 37,
     "metadata": {},
     "output_type": "execute_result"
    }
   ],
   "source": [
    "similaridades[:3]"
   ]
  },
  {
   "cell_type": "code",
   "execution_count": 38,
   "metadata": {},
   "outputs": [
    {
     "name": "stdout",
     "output_type": "stream",
     "text": [
      "Maceió começa a vacinar contra Covid crianças de 4 anos sem comorbidades  --  Interessados devem se inscrever  na secretaria da escola até o dia 15 de agosto.\n",
      "-----------------------------------\n",
      "Campanhas de vacinação contra pólio e multivacinação começam na segunda-feira em Alagoas   --  Interessados devem se inscrever  na secretaria da escola até o dia 15 de agosto.\n",
      "-----------------------------------\n",
      "Mogi das Cruzes abre novos agendamentos para vacinação contra Covid-19, nesta quarta-feira  --  Interessados devem se inscrever  na secretaria da escola até o dia 15 de agosto.\n",
      "-----------------------------------\n",
      "Cuiabá irá retomar vacinação da BCG em crianças; veja locais   --  Interessados devem se inscrever  na secretaria da escola até o dia 15 de agosto.\n",
      "-----------------------------------\n",
      "\n",
      "\n",
      "\n",
      "Adolescente filha de vítima de feminicídio é morta a tiros no ES e ex-namorado é preso suspeito do crime   --  No total foram analisados 66 itens, entre frutas, verduras, legumes e temperos. \n",
      "-----------------------------------\n",
      "Queda de paraquedas no mar, perito aposentado desaparecido e conta de luz mais barata: veja o que foi notícia no ES  --  No total foram analisados 66 itens, entre frutas, verduras, legumes e temperos. \n",
      "-----------------------------------\n",
      "Menina de 7 anos morre após escorregar e bater cabeça em escada no ES, dizem pais  --  No total foram analisados 66 itens, entre frutas, verduras, legumes e temperos. \n",
      "-----------------------------------\n",
      "Jovem é preso suspeito de abandonar avó de 71 anos sem comida e pegar dinheiro dela para comprar drogas, em Goiânia  --  No total foram analisados 66 itens, entre frutas, verduras, legumes e temperos. \n",
      "-----------------------------------\n",
      "\n",
      "\n",
      "\n",
      "'Aquele lugar foi um lugar consagrado a demônios', diz Michele Bolsonaro sobre Planalto durante culto em BH   --  Valor passou de R$ 637,25 para R$ 647,45, de junho para julho; Levantamento, feito em 13 estabelecimentos situados em 11 bairros.\n",
      "-----------------------------------\n",
      "Europa tem interesse em SpaceX para substituir foguetes russos  --  Valor passou de R$ 637,25 para R$ 647,45, de junho para julho; Levantamento, feito em 13 estabelecimentos situados em 11 bairros.\n",
      "-----------------------------------\n",
      "EUA acusam Rússia de usar usina como 'escudo nuclear' na Ucrânia  --  Valor passou de R$ 637,25 para R$ 647,45, de junho para julho; Levantamento, feito em 13 estabelecimentos situados em 11 bairros.\n",
      "-----------------------------------\n",
      "Cratera no Chile cresce tanto que poderia engolir seis estátuas do Cristo Redentor  --  Valor passou de R$ 637,25 para R$ 647,45, de junho para julho; Levantamento, feito em 13 estabelecimentos situados em 11 bairros.\n",
      "-----------------------------------\n",
      "\n",
      "\n",
      "\n"
     ]
    }
   ],
   "source": [
    "def print_similaridades(similaridades, itens_filtrado):\n",
    "    for i in range(3):\n",
    "        for j in range(1, 5):\n",
    "            print(itens_filtrado.iloc[similaridades[i][1][0][-j]]['title'], ' -- ', itens_filtrado.iloc[similaridades[1][1][0][i]]['caption'])\n",
    "            print('-----------------------------------')\n",
    "        \n",
    "        print('\\n\\n')\n",
    "\n",
    "print_similaridades(similaridades, itens_filtrado)"
   ]
  },
  {
   "cell_type": "markdown",
   "metadata": {},
   "source": [
    "A combinação entre `TfidfVectorizer` para extração de tokens e o calculo de similaridades feito pela função `compute_similarity` está retornando resultados interessantes.\n",
    "\n",
    "Acredito que o resultado atual pode ser aproveitado para a implementação do sistema de recomendação de noticias desse datathon."
   ]
  },
  {
   "cell_type": "markdown",
   "metadata": {},
   "source": [
    "### Criando a matriz de similaridades entre os textos"
   ]
  },
  {
   "cell_type": "markdown",
   "metadata": {},
   "source": [
    "Primeiramente precisamos do modelo de vetorização que vamos usar para o sistema de recomendações"
   ]
  },
  {
   "cell_type": "code",
   "execution_count": 1,
   "metadata": {},
   "outputs": [],
   "source": [
    "from sklearn.feature_extraction.text import TfidfVectorizer\n",
    "from sklearn.metrics.pairwise import cosine_similarity\n",
    "from nltk.corpus import stopwords\n",
    "\n",
    "import pandas as pd\n",
    "\n",
    "import pickle\n",
    "import nltk\n",
    "import os"
   ]
  },
  {
   "cell_type": "code",
   "execution_count": 2,
   "metadata": {},
   "outputs": [],
   "source": [
    "def obter_stopwords(linguagem:str):\n",
    "    nltk.download('stopwords', quiet=True)\n",
    "    return list(stopwords.words(linguagem))\n",
    "\n",
    "def treinar_vectorizer(textos:pd.Series, linguagem='portuguese', max_features=500, ngram_range=(1, 2), min_df=0.2, max_df=0.8):\n",
    "    stopwords = obter_stopwords(linguagem)\n",
    "    vectorizer = TfidfVectorizer(\n",
    "        stop_words=stopwords, \n",
    "        max_features=max_features, \n",
    "        ngram_range=ngram_range, \n",
    "        min_df=min_df, \n",
    "        max_df=max_df\n",
    "    )\n",
    "    vectorizer.fit(textos)\n",
    "    return vectorizer\n",
    "\n",
    "def treinar_e_salvar_vectorizer(textos: pd.Series):\n",
    "    os.makedirs('models', exist_ok=True)\n",
    "\n",
    "    vectorizer = treinar_vectorizer(textos)\n",
    "\n",
    "    with open(r'models/vectorizer_body.pkl', 'wb') as file:\n",
    "        pickle.dump(vectorizer, file)\n",
    "    \n",
    "    return vectorizer\n",
    "\n",
    "def carregar_vectorizer():\n",
    "    with open(r'models/vectorizer_body.pkl', 'rb') as file:\n",
    "        return pickle.load(file)\n",
    "    \n",
    "def carregar_ou_treinar_vectorizer(forcar_treino=False):\n",
    "    if not forcar_treino and os.path.exists(r'models/vectorizer_body.pkl'):\n",
    "        return carregar_vectorizer()\n",
    "    else:\n",
    "        textos = carregar_textos_recentes()\n",
    "        return treinar_e_salvar_vectorizer(textos=textos['body'])\n",
    "    \n",
    "def carregar_textos_recentes(dias=14):\n",
    "    df = pd.read_csv(r'data/itens/itens/long_format.csv')\n",
    "    filtro_data = pd.to_datetime(df['issued'].max()) - pd.Timedelta(days=dias)\n",
    "    return df[pd.to_datetime(df['issued']) >= filtro_data]"
   ]
  },
  {
   "cell_type": "code",
   "execution_count": 3,
   "metadata": {},
   "outputs": [],
   "source": [
    "vectorizer = carregar_ou_treinar_vectorizer()"
   ]
  },
  {
   "cell_type": "code",
   "execution_count": 23,
   "metadata": {},
   "outputs": [],
   "source": [
    "def obter_similaridades(textos:pd.Series, vectorizer:TfidfVectorizer, n_top=5):\n",
    "    X = vectorizer.transform(textos)\n",
    "    similaridades = cosine_similarity(X)\n",
    "    return [ (it[-1], list(reversed(it[-n_top-1:-1]))) for it in similaridades.argsort() ]"
   ]
  },
  {
   "cell_type": "code",
   "execution_count": 24,
   "metadata": {},
   "outputs": [],
   "source": [
    "materias = carregar_textos_recentes()\n",
    "similaridades = obter_similaridades(materias['body'], vectorizer)"
   ]
  },
  {
   "cell_type": "code",
   "execution_count": 25,
   "metadata": {},
   "outputs": [
    {
     "data": {
      "text/plain": [
       "(np.int64(0),\n",
       " [np.int64(1260),\n",
       "  np.int64(4870),\n",
       "  np.int64(9849),\n",
       "  np.int64(3138),\n",
       "  np.int64(887)])"
      ]
     },
     "execution_count": 25,
     "metadata": {},
     "output_type": "execute_result"
    }
   ],
   "source": [
    "similaridades[0]"
   ]
  },
  {
   "cell_type": "code",
   "execution_count": 26,
   "metadata": {},
   "outputs": [],
   "source": [
    "def print_similaridades(similaridades, textos):\n",
    "    for base, sugestoes in similaridades:\n",
    "        print(textos.iloc[base]['title'])\n",
    "        for sugestao in sugestoes:\n",
    "            print('--------------------------------------')\n",
    "            print('  ', textos.iloc[sugestao]['title'])\n",
    "        print('\\n\\n')"
   ]
  },
  {
   "cell_type": "code",
   "execution_count": 27,
   "metadata": {},
   "outputs": [
    {
     "name": "stdout",
     "output_type": "stream",
     "text": [
      "Saúde descarta varíola dos macacos em dois imigrantes que passaram por exames no AC \n",
      "--------------------------------------\n",
      "   Criança de 6 anos dá entrada em UPA de Rio Branco com suspeita de varíola dos macacos\n",
      "--------------------------------------\n",
      "   Jundiaí registra mais dois casos de varíola dos macacos\n",
      "--------------------------------------\n",
      "   Estado confirma primeiro caso de varíola dos macacos em Jarinu\n",
      "--------------------------------------\n",
      "   Sandy propaga levezas com Agnes Nunes e Wanessa Camargo no primeiro single do EP 'Nós, Voz, Eles 2'\n",
      "--------------------------------------\n",
      "   Acre investiga cinco casos suspeitos de varíola dos macacos e tem uma confirmação da doença \n",
      "\n",
      "\n",
      "\n",
      "Sine Acre oferece 37 vagas de emprego nesta terça-feira (2) ; confira a lista\n",
      "--------------------------------------\n",
      "   Sine Acre oferece 47 vagas de emprego nesta quinta-feira (4); confira a lista\n",
      "--------------------------------------\n",
      "   Sine Acre oferece 45 vagas de emprego nesta quarta-feira (3); confira a lista\n",
      "--------------------------------------\n",
      "   Sine Acre oferece 82 vagas de emprego nesta quinta-feira (11); confira a lista\n",
      "--------------------------------------\n",
      "   Sine Acre oferece 54 vagas de emprego nesta terça-feira (9); confira a lista\n",
      "--------------------------------------\n",
      "   Sine Acre oferece 55 vagas de emprego nesta segunda-feira (8); confira a lista\n",
      "\n",
      "\n",
      "\n",
      "Maceió começa a vacinar contra Covid crianças de 4 anos sem comorbidades\n",
      "--------------------------------------\n",
      "   Crianças de 4 anos começam a ser vacinadas contra Covid em Maceió\n",
      "--------------------------------------\n",
      "   Maceió vacina crianças de 3 anos sem comorbidades a partir desta terça-feira \n",
      "--------------------------------------\n",
      "   Goiás inicia campanha de multivacinação para crianças e adolescentes menores de 15 anos\n",
      "--------------------------------------\n",
      "   Escola Santos Dumont abre período de matrículas para estudantes surdos em Petrópolis \n",
      "--------------------------------------\n",
      "   Patos de Minas inicia campanha de vacinação contra poliomielite e multivacinação para crianças e adolescentes\n",
      "\n",
      "\n",
      "\n"
     ]
    }
   ],
   "source": [
    "print_similaridades(similaridades[:3], materias)"
   ]
  },
  {
   "cell_type": "markdown",
   "metadata": {},
   "source": [
    "A qualidade das sugestões está bem legal e aproveitavel. Podemos seguir em frente com as sugestões obtidas a partir desse código.\n",
    "\n",
    "Vou salvar o resultado desse código para utilizações posteriores."
   ]
  },
  {
   "cell_type": "code",
   "execution_count": 34,
   "metadata": {},
   "outputs": [],
   "source": [
    "def converter_em_ids_das_materias(sugestoes, materias):\n",
    "    resultado = []\n",
    "    for base, similares in sugestoes:\n",
    "        linha = [\n",
    "            materias.iloc[base]['page'],\n",
    "            *[ materias.iloc[i]['page'] for i in similares ]\n",
    "        ]\n",
    "        resultado.append(linha)\n",
    "    return pd.DataFrame(resultado, columns=['base', 'sugestao1', 'sugestao2', 'sugestao3', 'sugestao4', 'sugestao5'])"
   ]
  },
  {
   "cell_type": "code",
   "execution_count": 37,
   "metadata": {},
   "outputs": [
    {
     "data": {
      "text/html": [
       "<div>\n",
       "<style scoped>\n",
       "    .dataframe tbody tr th:only-of-type {\n",
       "        vertical-align: middle;\n",
       "    }\n",
       "\n",
       "    .dataframe tbody tr th {\n",
       "        vertical-align: top;\n",
       "    }\n",
       "\n",
       "    .dataframe thead th {\n",
       "        text-align: right;\n",
       "    }\n",
       "</style>\n",
       "<table border=\"1\" class=\"dataframe\">\n",
       "  <thead>\n",
       "    <tr style=\"text-align: right;\">\n",
       "      <th></th>\n",
       "      <th>base</th>\n",
       "      <th>sugestao1</th>\n",
       "      <th>sugestao2</th>\n",
       "      <th>sugestao3</th>\n",
       "      <th>sugestao4</th>\n",
       "      <th>sugestao5</th>\n",
       "    </tr>\n",
       "  </thead>\n",
       "  <tbody>\n",
       "    <tr>\n",
       "      <th>0</th>\n",
       "      <td>790f8f6d-2674-462d-ab94-47239c2f60d5</td>\n",
       "      <td>531a8b77-e546-400a-ab9e-f05c5b8c2dfc</td>\n",
       "      <td>5e7b1c29-49c1-43a3-bf17-01f18e63a6c3</td>\n",
       "      <td>5b381dbc-b364-48e4-861c-816cb043b30f</td>\n",
       "      <td>552b9004-5ac4-44c2-8edb-84232e3bfe4c</td>\n",
       "      <td>6cd71ce6-9d26-480c-b6f8-e7268e1dc8c2</td>\n",
       "    </tr>\n",
       "    <tr>\n",
       "      <th>1</th>\n",
       "      <td>edc93569-bf37-437d-a6c3-fda029f8bc70</td>\n",
       "      <td>5a301c99-f2cd-4af7-9dca-3a5497651191</td>\n",
       "      <td>9eddd003-a771-499a-ae3c-d3874d12a379</td>\n",
       "      <td>4eda2c3c-5947-4ff4-a514-03cc8472bb5c</td>\n",
       "      <td>6af5a619-d862-4b05-8c99-e7a4ba66754c</td>\n",
       "      <td>047d0f21-8f2b-4c14-89e8-0efb2662287e</td>\n",
       "    </tr>\n",
       "    <tr>\n",
       "      <th>2</th>\n",
       "      <td>d458eb60-018c-42d1-9731-7d65be3ada78</td>\n",
       "      <td>3395c0ad-e244-4592-8a17-87fe469b05d1</td>\n",
       "      <td>2ffb7eca-ae76-4f39-9957-ec25418ebaf6</td>\n",
       "      <td>5bc2e357-a3c5-41a3-9ea1-bbb2b54a056c</td>\n",
       "      <td>ceb7c1ae-f0da-422b-a697-caa3a71d4dd0</td>\n",
       "      <td>6d518d03-adbe-4cad-a7b6-28ec8d88adba</td>\n",
       "    </tr>\n",
       "  </tbody>\n",
       "</table>\n",
       "</div>"
      ],
      "text/plain": [
       "                                   base                             sugestao1  \\\n",
       "0  790f8f6d-2674-462d-ab94-47239c2f60d5  531a8b77-e546-400a-ab9e-f05c5b8c2dfc   \n",
       "1  edc93569-bf37-437d-a6c3-fda029f8bc70  5a301c99-f2cd-4af7-9dca-3a5497651191   \n",
       "2  d458eb60-018c-42d1-9731-7d65be3ada78  3395c0ad-e244-4592-8a17-87fe469b05d1   \n",
       "\n",
       "                              sugestao2                             sugestao3  \\\n",
       "0  5e7b1c29-49c1-43a3-bf17-01f18e63a6c3  5b381dbc-b364-48e4-861c-816cb043b30f   \n",
       "1  9eddd003-a771-499a-ae3c-d3874d12a379  4eda2c3c-5947-4ff4-a514-03cc8472bb5c   \n",
       "2  2ffb7eca-ae76-4f39-9957-ec25418ebaf6  5bc2e357-a3c5-41a3-9ea1-bbb2b54a056c   \n",
       "\n",
       "                              sugestao4                             sugestao5  \n",
       "0  552b9004-5ac4-44c2-8edb-84232e3bfe4c  6cd71ce6-9d26-480c-b6f8-e7268e1dc8c2  \n",
       "1  6af5a619-d862-4b05-8c99-e7a4ba66754c  047d0f21-8f2b-4c14-89e8-0efb2662287e  \n",
       "2  ceb7c1ae-f0da-422b-a697-caa3a71d4dd0  6d518d03-adbe-4cad-a7b6-28ec8d88adba  "
      ]
     },
     "execution_count": 37,
     "metadata": {},
     "output_type": "execute_result"
    }
   ],
   "source": [
    "df_sugestoes = converter_em_ids_das_materias(similaridades, materias)\n",
    "df_sugestoes.head(3)"
   ]
  },
  {
   "cell_type": "code",
   "execution_count": 38,
   "metadata": {},
   "outputs": [],
   "source": [
    "df_sugestoes.to_csv(r'data/sugestoes.csv', index=False)"
   ]
  },
  {
   "cell_type": "markdown",
   "metadata": {},
   "source": [
    "Agora eu tenho um dataframe com as recomendações de materias similares para utilização em analises futuras!"
   ]
  },
  {
   "cell_type": "markdown",
   "metadata": {},
   "source": [
    "### Análise do dataframe de atividade dos usuários"
   ]
  },
  {
   "cell_type": "code",
   "execution_count": 7,
   "metadata": {},
   "outputs": [
    {
     "data": {
      "text/html": [
       "<div>\n",
       "<style scoped>\n",
       "    .dataframe tbody tr th:only-of-type {\n",
       "        vertical-align: middle;\n",
       "    }\n",
       "\n",
       "    .dataframe tbody tr th {\n",
       "        vertical-align: top;\n",
       "    }\n",
       "\n",
       "    .dataframe thead th {\n",
       "        text-align: right;\n",
       "    }\n",
       "</style>\n",
       "<table border=\"1\" class=\"dataframe\">\n",
       "  <thead>\n",
       "    <tr style=\"text-align: right;\">\n",
       "      <th></th>\n",
       "      <th>userId</th>\n",
       "      <th>userType</th>\n",
       "      <th>historySize</th>\n",
       "      <th>history</th>\n",
       "      <th>timestampHistory</th>\n",
       "      <th>numberOfClicksHistory</th>\n",
       "      <th>timeOnPageHistory</th>\n",
       "      <th>scrollPercentageHistory</th>\n",
       "      <th>pageVisitsCountHistory</th>\n",
       "    </tr>\n",
       "  </thead>\n",
       "  <tbody>\n",
       "    <tr>\n",
       "      <th>2706609</th>\n",
       "      <td>3af3dd1335a8bcd0a92d7ede0b077a28ec6edb2953494f...</td>\n",
       "      <td>Logged</td>\n",
       "      <td>376</td>\n",
       "      <td>5ad189e3-77e6-4c5e-9eed-8979ba58e283</td>\n",
       "      <td>2022-08-10 23:36:45.519</td>\n",
       "      <td>21</td>\n",
       "      <td>54004</td>\n",
       "      <td>35.24</td>\n",
       "      <td>2</td>\n",
       "    </tr>\n",
       "  </tbody>\n",
       "</table>\n",
       "</div>"
      ],
      "text/plain": [
       "                                                    userId userType  \\\n",
       "2706609  3af3dd1335a8bcd0a92d7ede0b077a28ec6edb2953494f...   Logged   \n",
       "\n",
       "         historySize                                history  \\\n",
       "2706609          376   5ad189e3-77e6-4c5e-9eed-8979ba58e283   \n",
       "\n",
       "               timestampHistory  numberOfClicksHistory  timeOnPageHistory  \\\n",
       "2706609 2022-08-10 23:36:45.519                     21              54004   \n",
       "\n",
       "         scrollPercentageHistory  pageVisitsCountHistory  \n",
       "2706609                    35.24                       2  "
      ]
     },
     "execution_count": 7,
     "metadata": {},
     "output_type": "execute_result"
    }
   ],
   "source": [
    "df_treino_train.head(1)"
   ]
  },
  {
   "cell_type": "markdown",
   "metadata": {},
   "source": [
    "#### userType"
   ]
  },
  {
   "cell_type": "code",
   "execution_count": 14,
   "metadata": {},
   "outputs": [
    {
     "data": {
      "image/png": "[encoded data removed]",
      "text/plain": [
       "<Figure size 640x480 with 1 Axes>"
      ]
     },
     "metadata": {},
     "output_type": "display_data"
    }
   ],
   "source": [
    "df_treino_train[['userId', 'userType']].drop_duplicates().groupby('userType').count().plot(kind='bar');"
   ]
  },
  {
   "cell_type": "markdown",
   "metadata": {},
   "source": [
    "O dataset esta muito desbalanceado, mas é esperado que tenha mais usuários deslogados que usuários logados."
   ]
  },
  {
   "cell_type": "markdown",
   "metadata": {},
   "source": [
    "#### historySize"
   ]
  },
  {
   "cell_type": "code",
   "execution_count": 51,
   "metadata": {},
   "outputs": [
    {
     "data": {
      "image/png": "[encoded data removed]",
      "text/plain": [
       "<Figure size 640x480 with 1 Axes>"
      ]
     },
     "metadata": {},
     "output_type": "display_data"
    }
   ],
   "source": [
    "df_treino_train[['userId', 'userType', 'historySize']].drop_duplicates().drop('userId', axis=1).plot(kind='hist');"
   ]
  },
  {
   "cell_type": "code",
   "execution_count": 68,
   "metadata": {},
   "outputs": [
    {
     "data": {
      "image/png": "[encoded data removed]",
      "text/plain": [
       "<Figure size 640x480 with 1 Axes>"
      ]
     },
     "metadata": {},
     "output_type": "display_data"
    }
   ],
   "source": [
    "sns.kdeplot(df_treino_train[['userId', 'userType', 'historySize']].drop_duplicates()['historySize'], fill=True, color='red');"
   ]
  },
  {
   "cell_type": "markdown",
   "metadata": {},
   "source": [
    "Usando o KDE, podemos ver que tem uma grande concentração de usuarios que lêem menos que 1000 matérias, mas uma quantidade quase constante de usuários que leram mais de 1000."
   ]
  },
  {
   "cell_type": "code",
   "execution_count": 73,
   "metadata": {},
   "outputs": [
    {
     "data": {
      "image/png": "[encoded data removed]",
      "text/plain": [
       "<Figure size 640x480 with 1 Axes>"
      ]
     },
     "metadata": {},
     "output_type": "display_data"
    }
   ],
   "source": [
    "np.log1p(df_treino_train[['userId', 'userType', 'historySize']].drop_duplicates()['historySize']).plot(kind='hist');"
   ]
  },
  {
   "cell_type": "markdown",
   "metadata": {},
   "source": [
    "Usando uma escala logaritmica, podemos reduzir a distorção do gráfico e ter uma noção melhor da distribuição dos dados. Essa informação pode ajudar a traçar um perfil dos usuários, ajudando a separar usuários frequentes dos usuários ocasionais. "
   ]
  },
  {
   "cell_type": "code",
   "execution_count": 49,
   "metadata": {},
   "outputs": [
    {
     "data": {
      "text/plain": [
       "(7311556, 1319078)"
      ]
     },
     "execution_count": 49,
     "metadata": {},
     "output_type": "execute_result"
    }
   ],
   "source": [
    "len(df_treino_train), len(df_treino_train[df_treino_train['historySize'] < 20])"
   ]
  },
  {
   "cell_type": "markdown",
   "metadata": {},
   "source": [
    "Por mais que a distribuição de usuários que leram mais de 20 matérias seja mais distribuida a maior parte dos usuários ficam acima dessa faixa de acessos. Essa distribuição está dificulando a analise da distribuição dos dados."
   ]
  },
  {
   "cell_type": "markdown",
   "metadata": {},
   "source": [
    "#### scrollPercentageHistory"
   ]
  },
  {
   "cell_type": "code",
   "execution_count": 79,
   "metadata": {},
   "outputs": [
    {
     "data": {
      "image/png": "[encoded data removed]",
      "text/plain": [
       "<Figure size 640x480 with 1 Axes>"
      ]
     },
     "metadata": {},
     "output_type": "display_data"
    }
   ],
   "source": [
    "df_treino_train[['scrollPercentageHistory']].plot(kind='hist');"
   ]
  },
  {
   "cell_type": "code",
   "execution_count": 80,
   "metadata": {},
   "outputs": [
    {
     "name": "stdout",
     "output_type": "stream",
     "text": [
      "7311556 1993\n"
     ]
    }
   ],
   "source": [
    "print(len(df_treino_train), len(df_treino_train[df_treino_train['scrollPercentageHistory'] > 100.0]))"
   ]
  },
  {
   "cell_type": "markdown",
   "metadata": {},
   "source": [
    "é muito estranho que exista casos em que a porcentagem de scroll seja maior que 100%. Acredito que esses casos podem estar relacionados a bugs na ferramenta que captura essas métricas."
   ]
  },
  {
   "cell_type": "code",
   "execution_count": 23,
   "metadata": {},
   "outputs": [],
   "source": [
    "df_treino_train.loc[df_treino_train['scrollPercentageHistory'] > 100.0, 'scrollPercentageHistory'] = 100.0"
   ]
  },
  {
   "cell_type": "code",
   "execution_count": 82,
   "metadata": {},
   "outputs": [
    {
     "data": {
      "image/png": "[encoded data removed]",
      "text/plain": [
       "<Figure size 640x480 with 1 Axes>"
      ]
     },
     "metadata": {},
     "output_type": "display_data"
    }
   ],
   "source": [
    "df_treino_train[['scrollPercentageHistory']].plot(kind='hist');"
   ]
  },
  {
   "cell_type": "markdown",
   "metadata": {},
   "source": [
    "#### timeOnPageHistory"
   ]
  },
  {
   "cell_type": "code",
   "execution_count": 83,
   "metadata": {},
   "outputs": [
    {
     "data": {
      "image/png": "[encoded data removed]",
      "text/plain": [
       "<Figure size 640x480 with 1 Axes>"
      ]
     },
     "metadata": {},
     "output_type": "display_data"
    }
   ],
   "source": [
    "df_treino_train[['timeOnPageHistory']].plot(kind='hist');"
   ]
  },
  {
   "cell_type": "code",
   "execution_count": 84,
   "metadata": {},
   "outputs": [
    {
     "data": {
      "image/png": "[encoded data removed]",
      "text/plain": [
       "<Figure size 640x480 with 1 Axes>"
      ]
     },
     "metadata": {},
     "output_type": "display_data"
    }
   ],
   "source": [
    "np.log1p(df_treino_train[['timeOnPageHistory']]).plot(kind='hist');"
   ]
  },
  {
   "cell_type": "markdown",
   "metadata": {},
   "source": [
    "#### pageVisitsCountHistory"
   ]
  },
  {
   "cell_type": "code",
   "execution_count": 85,
   "metadata": {},
   "outputs": [
    {
     "data": {
      "image/png": "[encoded data removed]",
      "text/plain": [
       "<Figure size 640x480 with 1 Axes>"
      ]
     },
     "metadata": {},
     "output_type": "display_data"
    }
   ],
   "source": [
    "df_treino_train[['pageVisitsCountHistory']].plot(kind='hist');"
   ]
  },
  {
   "cell_type": "code",
   "execution_count": 86,
   "metadata": {},
   "outputs": [
    {
     "data": {
      "image/png": "[encoded data removed]",
      "text/plain": [
       "<Figure size 640x480 with 1 Axes>"
      ]
     },
     "metadata": {},
     "output_type": "display_data"
    }
   ],
   "source": [
    "np.log1p(df_treino_train[['pageVisitsCountHistory']]).plot(kind='hist');"
   ]
  },
  {
   "cell_type": "markdown",
   "metadata": {},
   "source": [
    "#### history"
   ]
  },
  {
   "cell_type": "code",
   "execution_count": 90,
   "metadata": {},
   "outputs": [
    {
     "data": {
      "image/png": "[encoded data removed]",
      "text/plain": [
       "<Figure size 640x480 with 1 Axes>"
      ]
     },
     "metadata": {},
     "output_type": "display_data"
    }
   ],
   "source": [
    "df_treino_train['history'].value_counts().plot(kind='hist');"
   ]
  },
  {
   "cell_type": "code",
   "execution_count": 91,
   "metadata": {},
   "outputs": [
    {
     "data": {
      "image/png": "[encoded data removed]",
      "text/plain": [
       "<Figure size 640x480 with 1 Axes>"
      ]
     },
     "metadata": {},
     "output_type": "display_data"
    }
   ],
   "source": [
    "np.log1p(df_treino_train['history'].value_counts()).plot(kind='hist');"
   ]
  },
  {
   "cell_type": "code",
   "execution_count": 92,
   "metadata": {},
   "outputs": [
    {
     "data": {
      "text/plain": [
       "history\n",
       "d2593c3d-2347-40d9-948c-b6065e8459a9    21950\n",
       "f6b5d170-48b9-4f8e-88d4-c84b6668f3bd    19613\n",
       "1f32787b-de2b-49be-8c20-ddaeae34cc22    16534\n",
       "f0a78e58-ec7e-494c-9462-fbd6446a9a89    16119\n",
       "6a83890a-d9e9-4f6b-a6c6-90d031785bbf    15966\n",
       "855d20b7-53f2-4678-a10f-55402d085018    15328\n",
       "4c63d7cd-4902-4ffb-9b94-578b1b2151f0    15075\n",
       "1c27cf97-b20c-4e40-b1f1-288b721517b3    14609\n",
       "bf257382-74fb-4392-ad6a-143240e39f81    13344\n",
       "a36c98b5-f159-48f8-9f5a-1fc6ea9956c8    13288\n",
       "Name: count, dtype: int64"
      ]
     },
     "execution_count": 92,
     "metadata": {},
     "output_type": "execute_result"
    }
   ],
   "source": [
    "df_treino_train['history'].value_counts().sort_values(ascending=False).head(10)"
   ]
  },
  {
   "cell_type": "code",
   "execution_count": 93,
   "metadata": {},
   "outputs": [
    {
     "data": {
      "text/plain": [
       "history\n",
       " 486ba81a-8f76-49d3-836e-bca5e109272e    1\n",
       " d1672ec7-3c13-4571-a993-bb22691a192e    1\n",
       " 802da87e-676b-421e-9d41-2fcbb5ce4b28    1\n",
       " 3fc1cd94-b290-4456-b600-dbf8f5fac88e    1\n",
       " 31865ff6-594b-4ae1-bc6e-6339fbf44f6e    1\n",
       "efd324d1-9e31-4653-9da6-4cfe86f26993     1\n",
       " e0b7ff1c-54ed-4345-8292-9f6918eb48b5    1\n",
       "4bd197cd-0d04-42a4-94eb-aad091d7bfc9     1\n",
       "49435b8a-f34e-471b-9c28-14e21413c148     1\n",
       "0c02336c-cbff-4aaf-aa1b-3017c56e0a47     1\n",
       "Name: count, dtype: int64"
      ]
     },
     "execution_count": 93,
     "metadata": {},
     "output_type": "execute_result"
    }
   ],
   "source": [
    "df_treino_train['history'].value_counts().sort_values().head(10)"
   ]
  },
  {
   "cell_type": "code",
   "execution_count": 11,
   "metadata": {},
   "outputs": [
    {
     "data": {
      "image/png": "[encoded data removed]",
      "text/plain": [
       "<Figure size 640x480 with 1 Axes>"
      ]
     },
     "metadata": {},
     "output_type": "display_data"
    }
   ],
   "source": [
    "df_treino_train.groupby('history').count().plot(kind='hist', legend=False);"
   ]
  },
  {
   "cell_type": "code",
   "execution_count": 12,
   "metadata": {},
   "outputs": [
    {
     "data": {
      "image/png": "[encoded data removed]",
      "text/plain": [
       "<Figure size 640x480 with 1 Axes>"
      ]
     },
     "metadata": {},
     "output_type": "display_data"
    }
   ],
   "source": [
    "np.log1p(df_treino_train.groupby('history').count()).plot(kind='hist', legend=False);"
   ]
  },
  {
   "cell_type": "code",
   "execution_count": 17,
   "metadata": {},
   "outputs": [
    {
     "data": {
      "text/plain": [
       "history\n",
       "d2593c3d-2347-40d9-948c-b6065e8459a9    9.996568\n",
       "f6b5d170-48b9-4f8e-88d4-c84b6668f3bd    9.883999\n",
       "1f32787b-de2b-49be-8c20-ddaeae34cc22    9.713235\n",
       "f0a78e58-ec7e-494c-9462-fbd6446a9a89    9.687816\n",
       "6a83890a-d9e9-4f6b-a6c6-90d031785bbf    9.678279\n",
       "855d20b7-53f2-4678-a10f-55402d085018    9.637502\n",
       "4c63d7cd-4902-4ffb-9b94-578b1b2151f0    9.620859\n",
       "1c27cf97-b20c-4e40-b1f1-288b721517b3    9.589462\n",
       "bf257382-74fb-4392-ad6a-143240e39f81    9.498897\n",
       "a36c98b5-f159-48f8-9f5a-1fc6ea9956c8    9.494692\n",
       "Name: userId, dtype: float64"
      ]
     },
     "execution_count": 17,
     "metadata": {},
     "output_type": "execute_result"
    }
   ],
   "source": [
    "np.log1p(df_treino_train.groupby('history').count())['userId'].sort_values(ascending=False).head(10)"
   ]
  },
  {
   "cell_type": "code",
   "execution_count": 18,
   "metadata": {},
   "outputs": [
    {
     "data": {
      "text/plain": [
       "history\n",
       "d2593c3d-2347-40d9-948c-b6065e8459a9    21950\n",
       "f6b5d170-48b9-4f8e-88d4-c84b6668f3bd    19613\n",
       "1f32787b-de2b-49be-8c20-ddaeae34cc22    16534\n",
       "f0a78e58-ec7e-494c-9462-fbd6446a9a89    16119\n",
       "6a83890a-d9e9-4f6b-a6c6-90d031785bbf    15966\n",
       "855d20b7-53f2-4678-a10f-55402d085018    15328\n",
       "4c63d7cd-4902-4ffb-9b94-578b1b2151f0    15075\n",
       "1c27cf97-b20c-4e40-b1f1-288b721517b3    14609\n",
       "bf257382-74fb-4392-ad6a-143240e39f81    13344\n",
       "a36c98b5-f159-48f8-9f5a-1fc6ea9956c8    13288\n",
       "Name: userId, dtype: int64"
      ]
     },
     "execution_count": 18,
     "metadata": {},
     "output_type": "execute_result"
    }
   ],
   "source": [
    "df_treino_train.groupby('history').count()['userId'].sort_values(ascending=False).head(10)"
   ]
  },
  {
   "cell_type": "code",
   "execution_count": 20,
   "metadata": {},
   "outputs": [
    {
     "data": {
      "text/plain": [
       "np.float64(1.0)"
      ]
     },
     "execution_count": 20,
     "metadata": {},
     "output_type": "execute_result"
    }
   ],
   "source": [
    "df_treino_train.groupby('history').count()['userId'].median()"
   ]
  },
  {
   "cell_type": "code",
   "execution_count": 25,
   "metadata": {},
   "outputs": [
    {
     "data": {
      "text/plain": [
       "0.25      1.0\n",
       "0.50      1.0\n",
       "0.75      5.0\n",
       "0.80      7.0\n",
       "0.90     18.0\n",
       "0.95     40.0\n",
       "0.99    369.0\n",
       "Name: userId, dtype: float64"
      ]
     },
     "execution_count": 25,
     "metadata": {},
     "output_type": "execute_result"
    }
   ],
   "source": [
    "df_treino_train.groupby('history').count()['userId'].quantile([0.25, 0.50, 0.75, 0.80, 0.90, 0.95, 0.99])"
   ]
  },
  {
   "cell_type": "markdown",
   "metadata": {},
   "source": [
    "O resultado desses percentiles, fica bem claro que a maior parte das notícias não são muito acessadas. Existe ainda a possibilidade de que existam textos que nunca foram acessados por nenhum usuário."
   ]
  },
  {
   "cell_type": "markdown",
   "metadata": {},
   "source": [
    "#### Tempo médio de acesso de uma matéria"
   ]
  },
  {
   "cell_type": "code",
   "execution_count": 10,
   "metadata": {},
   "outputs": [
    {
     "data": {
      "text/html": [
       "<div>\n",
       "<style scoped>\n",
       "    .dataframe tbody tr th:only-of-type {\n",
       "        vertical-align: middle;\n",
       "    }\n",
       "\n",
       "    .dataframe tbody tr th {\n",
       "        vertical-align: top;\n",
       "    }\n",
       "\n",
       "    .dataframe thead th {\n",
       "        text-align: right;\n",
       "    }\n",
       "</style>\n",
       "<table border=\"1\" class=\"dataframe\">\n",
       "  <thead>\n",
       "    <tr style=\"text-align: right;\">\n",
       "      <th></th>\n",
       "      <th>history</th>\n",
       "      <th>dateTimeHistory</th>\n",
       "    </tr>\n",
       "  </thead>\n",
       "  <tbody>\n",
       "    <tr>\n",
       "      <th>2706609</th>\n",
       "      <td>5ad189e3-77e6-4c5e-9eed-8979ba58e283</td>\n",
       "      <td>2022-08-10 23:36:45.519</td>\n",
       "    </tr>\n",
       "    <tr>\n",
       "      <th>3938466</th>\n",
       "      <td>5b82930f-fdd7-4e5e-b720-8b1b8eb709d8</td>\n",
       "      <td>2022-08-04 11:22:47.461</td>\n",
       "    </tr>\n",
       "  </tbody>\n",
       "</table>\n",
       "</div>"
      ],
      "text/plain": [
       "                                       history         dateTimeHistory\n",
       "2706609   5ad189e3-77e6-4c5e-9eed-8979ba58e283 2022-08-10 23:36:45.519\n",
       "3938466   5b82930f-fdd7-4e5e-b720-8b1b8eb709d8 2022-08-04 11:22:47.461"
      ]
     },
     "execution_count": 10,
     "metadata": {},
     "output_type": "execute_result"
    }
   ],
   "source": [
    "acessos = df_treino_train[['history', 'dateTimeHistory']]\n",
    "acessos.head(2)"
   ]
  },
  {
   "cell_type": "code",
   "execution_count": 11,
   "metadata": {},
   "outputs": [],
   "source": [
    "acessos = acessos.set_index('history').join(df_itens.set_index('page')[['issued']], how='inner')"
   ]
  },
  {
   "cell_type": "code",
   "execution_count": 12,
   "metadata": {
    "vscode": {
     "languageId": "javascript"
    }
   },
   "outputs": [
    {
     "data": {
      "text/html": [
       "<div>\n",
       "<style scoped>\n",
       "    .dataframe tbody tr th:only-of-type {\n",
       "        vertical-align: middle;\n",
       "    }\n",
       "\n",
       "    .dataframe tbody tr th {\n",
       "        vertical-align: top;\n",
       "    }\n",
       "\n",
       "    .dataframe thead th {\n",
       "        text-align: right;\n",
       "    }\n",
       "</style>\n",
       "<table border=\"1\" class=\"dataframe\">\n",
       "  <thead>\n",
       "    <tr style=\"text-align: right;\">\n",
       "      <th></th>\n",
       "      <th>dateTimeHistory</th>\n",
       "      <th>issued</th>\n",
       "      <th>diff_minutos</th>\n",
       "      <th>diff_horas</th>\n",
       "      <th>diff_dias</th>\n",
       "    </tr>\n",
       "    <tr>\n",
       "      <th>history</th>\n",
       "      <th></th>\n",
       "      <th></th>\n",
       "      <th></th>\n",
       "      <th></th>\n",
       "      <th></th>\n",
       "    </tr>\n",
       "  </thead>\n",
       "  <tbody>\n",
       "    <tr>\n",
       "      <th>de813d52-b34c-4480-96b3-84a35fd80b57</th>\n",
       "      <td>2022-08-01 10:17:56.420</td>\n",
       "      <td>2019-06-17 08:57:10</td>\n",
       "      <td>1.643121e+06</td>\n",
       "      <td>27385.346228</td>\n",
       "      <td>1141.056093</td>\n",
       "    </tr>\n",
       "    <tr>\n",
       "      <th>ba947c74-2d9f-4d98-b56a-47c910be4412</th>\n",
       "      <td>2022-07-17 17:47:11.318</td>\n",
       "      <td>2022-01-07 19:40:34</td>\n",
       "      <td>2.749266e+05</td>\n",
       "      <td>4582.110366</td>\n",
       "      <td>190.921265</td>\n",
       "    </tr>\n",
       "    <tr>\n",
       "      <th>1711978b-b9d2-409f-acb9-3863f29e0c0d</th>\n",
       "      <td>2022-07-14 15:40:56.646</td>\n",
       "      <td>2022-03-22 12:00:45</td>\n",
       "      <td>1.643802e+05</td>\n",
       "      <td>2739.669902</td>\n",
       "      <td>114.152913</td>\n",
       "    </tr>\n",
       "    <tr>\n",
       "      <th>cad45955-4c7a-4a9f-88e8-379906ca65d9</th>\n",
       "      <td>2022-07-06 17:26:06.752</td>\n",
       "      <td>2020-08-05 18:49:15</td>\n",
       "      <td>1.007917e+06</td>\n",
       "      <td>16798.614376</td>\n",
       "      <td>699.942266</td>\n",
       "    </tr>\n",
       "    <tr>\n",
       "      <th>f2967a51-efd4-4350-8448-cceeffffacfa</th>\n",
       "      <td>2022-08-01 16:35:15.634</td>\n",
       "      <td>2022-03-17 20:51:57</td>\n",
       "      <td>1.970233e+05</td>\n",
       "      <td>3283.721843</td>\n",
       "      <td>136.821743</td>\n",
       "    </tr>\n",
       "  </tbody>\n",
       "</table>\n",
       "</div>"
      ],
      "text/plain": [
       "                                             dateTimeHistory  \\\n",
       "history                                                        \n",
       "de813d52-b34c-4480-96b3-84a35fd80b57 2022-08-01 10:17:56.420   \n",
       "ba947c74-2d9f-4d98-b56a-47c910be4412 2022-07-17 17:47:11.318   \n",
       "1711978b-b9d2-409f-acb9-3863f29e0c0d 2022-07-14 15:40:56.646   \n",
       "cad45955-4c7a-4a9f-88e8-379906ca65d9 2022-07-06 17:26:06.752   \n",
       "f2967a51-efd4-4350-8448-cceeffffacfa 2022-08-01 16:35:15.634   \n",
       "\n",
       "                                                  issued  diff_minutos  \\\n",
       "history                                                                  \n",
       "de813d52-b34c-4480-96b3-84a35fd80b57 2019-06-17 08:57:10  1.643121e+06   \n",
       "ba947c74-2d9f-4d98-b56a-47c910be4412 2022-01-07 19:40:34  2.749266e+05   \n",
       "1711978b-b9d2-409f-acb9-3863f29e0c0d 2022-03-22 12:00:45  1.643802e+05   \n",
       "cad45955-4c7a-4a9f-88e8-379906ca65d9 2020-08-05 18:49:15  1.007917e+06   \n",
       "f2967a51-efd4-4350-8448-cceeffffacfa 2022-03-17 20:51:57  1.970233e+05   \n",
       "\n",
       "                                        diff_horas    diff_dias  \n",
       "history                                                          \n",
       "de813d52-b34c-4480-96b3-84a35fd80b57  27385.346228  1141.056093  \n",
       "ba947c74-2d9f-4d98-b56a-47c910be4412   4582.110366   190.921265  \n",
       "1711978b-b9d2-409f-acb9-3863f29e0c0d   2739.669902   114.152913  \n",
       "cad45955-4c7a-4a9f-88e8-379906ca65d9  16798.614376   699.942266  \n",
       "f2967a51-efd4-4350-8448-cceeffffacfa   3283.721843   136.821743  "
      ]
     },
     "execution_count": 12,
     "metadata": {},
     "output_type": "execute_result"
    }
   ],
   "source": [
    "acessos['diff_minutos'] = (acessos['dateTimeHistory'] - acessos['issued']).dt.total_seconds() / 60\n",
    "acessos['diff_horas'] = acessos['diff_minutos'] / 60\n",
    "acessos['diff_dias'] = acessos['diff_horas'] / 24\n",
    "\n",
    "acessos.head()"
   ]
  },
  {
   "cell_type": "code",
   "execution_count": 11,
   "metadata": {},
   "outputs": [
    {
     "data": {
      "image/png": "[encoded data removed]",
      "text/plain": [
       "<Figure size 640x480 with 1 Axes>"
      ]
     },
     "metadata": {},
     "output_type": "display_data"
    }
   ],
   "source": [
    "acessos['diff_minutos'].plot(kind='hist', title='Diferença entre o acesso e a publicação em minutos');"
   ]
  },
  {
   "cell_type": "code",
   "execution_count": 12,
   "metadata": {},
   "outputs": [
    {
     "data": {
      "image/png": "[encoded data removed]",
      "text/plain": [
       "<Figure size 640x480 with 1 Axes>"
      ]
     },
     "metadata": {},
     "output_type": "display_data"
    }
   ],
   "source": [
    "acessos['diff_horas'].plot(kind='hist', title='Diferença entre o acesso e a publicação em horas');"
   ]
  },
  {
   "cell_type": "code",
   "execution_count": 13,
   "metadata": {},
   "outputs": [
    {
     "data": {
      "image/png": "[encoded data removed]",
      "text/plain": [
       "<Figure size 640x480 with 1 Axes>"
      ]
     },
     "metadata": {},
     "output_type": "display_data"
    }
   ],
   "source": [
    "acessos['diff_dias'].plot(kind='hist', title='Diferença entre o acesso e a publicação em dias', bins=30);"
   ]
  },
  {
   "cell_type": "markdown",
   "metadata": {},
   "source": [
    "Mesmo após muito tempo da matéria lançada ainda temos novos acessos. Isso é um problema, já que no momento o calculo de semelhança entre as matérias está considerando apenas as 2 ultimas semanas. Ainda preciso de uma forma de calcular e atualizar a lista de semelhanças para todas as matérias de uma forma otimizada.\n",
    "\n",
    "Podemos considerar que uma matéria pode se manter relevante por pelo menos 500 dias após sua publicação."
   ]
  },
  {
   "cell_type": "code",
   "execution_count": 14,
   "metadata": {},
   "outputs": [
    {
     "data": {
      "image/png": "[encoded data removed]",
      "text/plain": [
       "<Figure size 640x480 with 1 Axes>"
      ]
     },
     "metadata": {},
     "output_type": "display_data"
    }
   ],
   "source": [
    "acessos.loc[acessos['diff_dias'] < 500, 'diff_dias'].plot(kind='hist', title='Diferença entre o acesso e a publicação em dias', bins=30);"
   ]
  },
  {
   "cell_type": "code",
   "execution_count": 15,
   "metadata": {},
   "outputs": [
    {
     "data": {
      "image/png": "[encoded data removed]",
      "text/plain": [
       "<Figure size 640x480 with 1 Axes>"
      ]
     },
     "metadata": {},
     "output_type": "display_data"
    }
   ],
   "source": [
    "acessos.loc[acessos['diff_dias'] < 30, 'diff_dias'].plot(kind='hist', title='Diferença entre o acesso e a publicação em dias', bins=30);"
   ]
  },
  {
   "cell_type": "code",
   "execution_count": 16,
   "metadata": {},
   "outputs": [
    {
     "data": {
      "text/html": [
       "<div>\n",
       "<style scoped>\n",
       "    .dataframe tbody tr th:only-of-type {\n",
       "        vertical-align: middle;\n",
       "    }\n",
       "\n",
       "    .dataframe tbody tr th {\n",
       "        vertical-align: top;\n",
       "    }\n",
       "\n",
       "    .dataframe thead th {\n",
       "        text-align: right;\n",
       "    }\n",
       "</style>\n",
       "<table border=\"1\" class=\"dataframe\">\n",
       "  <thead>\n",
       "    <tr style=\"text-align: right;\">\n",
       "      <th></th>\n",
       "      <th>dateTimeHistory</th>\n",
       "      <th>issued</th>\n",
       "      <th>diff_minutos</th>\n",
       "      <th>diff_horas</th>\n",
       "      <th>diff_dias</th>\n",
       "    </tr>\n",
       "    <tr>\n",
       "      <th>history</th>\n",
       "      <th></th>\n",
       "      <th></th>\n",
       "      <th></th>\n",
       "      <th></th>\n",
       "      <th></th>\n",
       "    </tr>\n",
       "  </thead>\n",
       "  <tbody>\n",
       "    <tr>\n",
       "      <th>5a8cd496-c577-489f-b8e5-58ffe739d191</th>\n",
       "      <td>2022-07-31 14:29:12.576</td>\n",
       "      <td>2022-08-01 10:20:07</td>\n",
       "      <td>-1190.907067</td>\n",
       "      <td>-19.848451</td>\n",
       "      <td>-0.827019</td>\n",
       "    </tr>\n",
       "    <tr>\n",
       "      <th>27112b95-15dc-4363-9d7a-0baf0d23b206</th>\n",
       "      <td>2022-07-02 06:15:20.216</td>\n",
       "      <td>2022-08-14 20:22:51</td>\n",
       "      <td>-62767.513067</td>\n",
       "      <td>-1046.125218</td>\n",
       "      <td>-43.588551</td>\n",
       "    </tr>\n",
       "    <tr>\n",
       "      <th>3c787cdc-99f7-4001-94ac-4edb2e971b94</th>\n",
       "      <td>2022-07-11 15:48:04.838</td>\n",
       "      <td>2022-08-13 21:22:51</td>\n",
       "      <td>-47854.769367</td>\n",
       "      <td>-797.579489</td>\n",
       "      <td>-33.232479</td>\n",
       "    </tr>\n",
       "    <tr>\n",
       "      <th>10f33dfb-319d-4763-aad8-15ec6bcf1a3f</th>\n",
       "      <td>2022-07-15 17:35:55.477</td>\n",
       "      <td>2022-08-12 12:31:53</td>\n",
       "      <td>-40015.958717</td>\n",
       "      <td>-666.932645</td>\n",
       "      <td>-27.788860</td>\n",
       "    </tr>\n",
       "    <tr>\n",
       "      <th>abf9b042-1205-465b-b24f-e3cc3907db83</th>\n",
       "      <td>2022-07-13 18:05:12.685</td>\n",
       "      <td>2022-08-12 11:56:26</td>\n",
       "      <td>-42831.221917</td>\n",
       "      <td>-713.853699</td>\n",
       "      <td>-29.743904</td>\n",
       "    </tr>\n",
       "  </tbody>\n",
       "</table>\n",
       "</div>"
      ],
      "text/plain": [
       "                                             dateTimeHistory  \\\n",
       "history                                                        \n",
       "5a8cd496-c577-489f-b8e5-58ffe739d191 2022-07-31 14:29:12.576   \n",
       "27112b95-15dc-4363-9d7a-0baf0d23b206 2022-07-02 06:15:20.216   \n",
       "3c787cdc-99f7-4001-94ac-4edb2e971b94 2022-07-11 15:48:04.838   \n",
       "10f33dfb-319d-4763-aad8-15ec6bcf1a3f 2022-07-15 17:35:55.477   \n",
       "abf9b042-1205-465b-b24f-e3cc3907db83 2022-07-13 18:05:12.685   \n",
       "\n",
       "                                                  issued  diff_minutos  \\\n",
       "history                                                                  \n",
       "5a8cd496-c577-489f-b8e5-58ffe739d191 2022-08-01 10:20:07  -1190.907067   \n",
       "27112b95-15dc-4363-9d7a-0baf0d23b206 2022-08-14 20:22:51 -62767.513067   \n",
       "3c787cdc-99f7-4001-94ac-4edb2e971b94 2022-08-13 21:22:51 -47854.769367   \n",
       "10f33dfb-319d-4763-aad8-15ec6bcf1a3f 2022-08-12 12:31:53 -40015.958717   \n",
       "abf9b042-1205-465b-b24f-e3cc3907db83 2022-08-12 11:56:26 -42831.221917   \n",
       "\n",
       "                                       diff_horas  diff_dias  \n",
       "history                                                       \n",
       "5a8cd496-c577-489f-b8e5-58ffe739d191   -19.848451  -0.827019  \n",
       "27112b95-15dc-4363-9d7a-0baf0d23b206 -1046.125218 -43.588551  \n",
       "3c787cdc-99f7-4001-94ac-4edb2e971b94  -797.579489 -33.232479  \n",
       "10f33dfb-319d-4763-aad8-15ec6bcf1a3f  -666.932645 -27.788860  \n",
       "abf9b042-1205-465b-b24f-e3cc3907db83  -713.853699 -29.743904  "
      ]
     },
     "execution_count": 16,
     "metadata": {},
     "output_type": "execute_result"
    }
   ],
   "source": [
    "acessos[acessos['diff_dias'] < 0].head()"
   ]
  },
  {
   "cell_type": "markdown",
   "metadata": {},
   "source": [
    "Como podem ter matérias com acesso anterior à sua publicação?\n",
    "\n",
    "Muito provavelmente nesse caso, ou a data de publicação ou de acesso está incorreta. Talvez uma solução interessante seja definir a data de publicação como a primeira data de acesso à matéria."
   ]
  },
  {
   "cell_type": "code",
   "execution_count": 16,
   "metadata": {},
   "outputs": [],
   "source": [
    "# Agrupar por 'history' e obter a menor data de acesso\n",
    "min_access_dates = df_treino_train.groupby('history')['dateTimeHistory'].min()\n",
    "\n",
    "# Atualizar a coluna 'issued' de df_itens\n",
    "df_itens['issued'] = df_itens.apply(\n",
    "    lambda row: min(row['issued'], min_access_dates.get(row['page'], row['issued'])),\n",
    "    axis=1\n",
    ")"
   ]
  },
  {
   "cell_type": "code",
   "execution_count": 17,
   "metadata": {},
   "outputs": [],
   "source": [
    "acessos = df_treino_train[['history', 'dateTimeHistory']]\n",
    "acessos = acessos.set_index('history').join(df_itens.set_index('page')[['issued']], how='inner')\n",
    "acessos['diff_minutos'] = (acessos['dateTimeHistory'] - acessos['issued']).dt.total_seconds() / 60\n",
    "acessos['diff_horas'] = acessos['diff_minutos'] / 60\n",
    "acessos['diff_dias'] = acessos['diff_horas'] / 24"
   ]
  },
  {
   "cell_type": "code",
   "execution_count": 18,
   "metadata": {},
   "outputs": [
    {
     "data": {
      "image/png": "[encoded data removed]",
      "text/plain": [
       "<Figure size 640x480 with 1 Axes>"
      ]
     },
     "metadata": {},
     "output_type": "display_data"
    }
   ],
   "source": [
    "acessos['diff_minutos'].plot(kind='hist', title='Diferença entre o acesso e a publicação em minutos');"
   ]
  },
  {
   "cell_type": "code",
   "execution_count": 22,
   "metadata": {},
   "outputs": [
    {
     "data": {
      "image/png": "[encoded data removed]",
      "text/plain": [
       "<Figure size 640x480 with 1 Axes>"
      ]
     },
     "metadata": {},
     "output_type": "display_data"
    }
   ],
   "source": [
    "acessos['diff_horas'].plot(kind='hist', title='Diferença entre o acesso e a publicação em horas');"
   ]
  },
  {
   "cell_type": "code",
   "execution_count": 26,
   "metadata": {},
   "outputs": [
    {
     "data": {
      "image/png": "[encoded data removed]",
      "text/plain": [
       "<Figure size 640x480 with 1 Axes>"
      ]
     },
     "metadata": {},
     "output_type": "display_data"
    }
   ],
   "source": [
    "acessos.loc[acessos['diff_horas'] <= 24, 'diff_horas'].plot(kind='hist', title='Diferença entre o acesso e a publicação nas últimas 24 horas', bins=24);"
   ]
  },
  {
   "cell_type": "code",
   "execution_count": 23,
   "metadata": {},
   "outputs": [
    {
     "data": {
      "image/png": "[encoded data removed]",
      "text/plain": [
       "<Figure size 640x480 with 1 Axes>"
      ]
     },
     "metadata": {},
     "output_type": "display_data"
    }
   ],
   "source": [
    "acessos['diff_dias'].plot(kind='hist', title='Diferença entre o acesso e a publicação em dias', bins=30);"
   ]
  },
  {
   "cell_type": "code",
   "execution_count": 24,
   "metadata": {},
   "outputs": [
    {
     "data": {
      "image/png": "[encoded data removed]",
      "text/plain": [
       "<Figure size 640x480 with 1 Axes>"
      ]
     },
     "metadata": {},
     "output_type": "display_data"
    }
   ],
   "source": [
    "acessos.loc[acessos['diff_dias'] < 30, 'diff_dias'].plot(kind='hist', title='Diferença entre o acesso e a publicação em dias', bins=30);"
   ]
  },
  {
   "cell_type": "markdown",
   "metadata": {},
   "source": [
    "Não houve mudanças significativas nos histogramas, mas pelo menos agora os dados parecem mais consistentes."
   ]
  },
  {
   "cell_type": "markdown",
   "metadata": {},
   "source": [
    "#### popularidade"
   ]
  },
  {
   "cell_type": "markdown",
   "metadata": {},
   "source": [
    "Noticias populares são aquelas que possuem um grande interesse do público. É de se esperar que notícias que tenham uma grande quantidade de acessos nas primeiras horas sejam classificadas como populares.\n",
    "\n",
    "Aqui eu pretendo entender mais sobre o que leva uma notícia a ter grande apelo popular."
   ]
  },
  {
   "cell_type": "code",
   "execution_count": 19,
   "metadata": {},
   "outputs": [
    {
     "data": {
      "text/html": [
       "<div>\n",
       "<style scoped>\n",
       "    .dataframe tbody tr th:only-of-type {\n",
       "        vertical-align: middle;\n",
       "    }\n",
       "\n",
       "    .dataframe tbody tr th {\n",
       "        vertical-align: top;\n",
       "    }\n",
       "\n",
       "    .dataframe thead th {\n",
       "        text-align: right;\n",
       "    }\n",
       "</style>\n",
       "<table border=\"1\" class=\"dataframe\">\n",
       "  <thead>\n",
       "    <tr style=\"text-align: right;\">\n",
       "      <th></th>\n",
       "      <th>dateTimeHistory</th>\n",
       "      <th>issued</th>\n",
       "      <th>diff_minutos</th>\n",
       "      <th>diff_horas</th>\n",
       "      <th>diff_dias</th>\n",
       "      <th>diff_horas_int</th>\n",
       "    </tr>\n",
       "    <tr>\n",
       "      <th>history</th>\n",
       "      <th></th>\n",
       "      <th></th>\n",
       "      <th></th>\n",
       "      <th></th>\n",
       "      <th></th>\n",
       "      <th></th>\n",
       "    </tr>\n",
       "  </thead>\n",
       "  <tbody>\n",
       "    <tr>\n",
       "      <th>148518b5-c324-4882-81a6-678168063a2c</th>\n",
       "      <td>2022-07-01 13:39:55.295</td>\n",
       "      <td>2022-07-01 12:01:38.461</td>\n",
       "      <td>98.280567</td>\n",
       "      <td>1.638009</td>\n",
       "      <td>0.06825</td>\n",
       "      <td>1</td>\n",
       "    </tr>\n",
       "  </tbody>\n",
       "</table>\n",
       "</div>"
      ],
      "text/plain": [
       "                                             dateTimeHistory  \\\n",
       "history                                                        \n",
       "148518b5-c324-4882-81a6-678168063a2c 2022-07-01 13:39:55.295   \n",
       "\n",
       "                                                      issued  diff_minutos  \\\n",
       "history                                                                      \n",
       "148518b5-c324-4882-81a6-678168063a2c 2022-07-01 12:01:38.461     98.280567   \n",
       "\n",
       "                                      diff_horas  diff_dias  diff_horas_int  \n",
       "history                                                                      \n",
       "148518b5-c324-4882-81a6-678168063a2c    1.638009    0.06825               1  "
      ]
     },
     "execution_count": 19,
     "metadata": {},
     "output_type": "execute_result"
    }
   ],
   "source": [
    "acessos_primeira_hora = acessos[acessos['diff_horas'] <= 24]\n",
    "acessos_primeira_hora['diff_horas_int'] = acessos_primeira_hora['diff_horas'].astype('int')\n",
    "acessos_primeira_hora.head(1)"
   ]
  },
  {
   "cell_type": "code",
   "execution_count": 34,
   "metadata": {},
   "outputs": [
    {
     "data": {
      "image/png": "[encoded data removed]",
      "text/plain": [
       "<Figure size 2000x500 with 3 Axes>"
      ]
     },
     "metadata": {},
     "output_type": "display_data"
    }
   ],
   "source": [
    "fig, axes = plt.subplots(1, 3, figsize=(20, 5))\n",
    "\n",
    "axes = axes.flatten()\n",
    "\n",
    "# Contagem de acessos por hora\n",
    "sns.countplot(data=acessos_primeira_hora, x='diff_horas_int', ax=axes[0]);\n",
    "axes[0].set_title('Acessos nas primeiras 24 horas');\n",
    "\n",
    "# Tempo até o acesso versus tempo na pagina\n",
    "df_treino_train['timeOnPageLog'] = np.log1p(df_treino_train['timeOnPageHistory'])\n",
    "df_treino_train[['history', 'timeOnPageLog']].set_index('history') \\\n",
    "        .join(acessos_primeira_hora.reset_index()['history'].value_counts(), how='inner') \\\n",
    "        .plot(kind='scatter', x='count', y='timeOnPageLog', ax=axes[1]);\n",
    "\n",
    "\n",
    "# Tempo até o acesso versus porcentagem de scroll da pagina versus\n",
    "df_treino_train['scrollLog'] = np.log1p(df_treino_train['scrollPercentageHistory'])\n",
    "df_treino_train[['history', 'scrollLog']].set_index('history') \\\n",
    "        .join(acessos_primeira_hora.reset_index()['history'].value_counts(), how='inner') \\\n",
    "        .plot(kind='scatter', x='count', y='scrollLog', ax=axes[2]);\n"
   ]
  },
  {
   "cell_type": "markdown",
   "metadata": {},
   "source": [
    "Ok... nem o tempo de pagina nem a porcentagem de scroll estão parecendo muito interessantes para identificar de uma notícia é popular ou não.\n",
    "\n",
    "Por hora, vou considerar apenas a quantidade de acessos na primeira hora após a publicação da matéria."
   ]
  },
  {
   "cell_type": "code",
   "execution_count": 46,
   "metadata": {},
   "outputs": [],
   "source": [
    "def obtem_materias_populares(df_treino: pd.DataFrame, df_itens:pd.DataFrame):\n",
    "    # Corrige o campo issued de df_itens\n",
    "    min_access_dates = df_treino.groupby('history')['dateTimeHistory'].min()\n",
    "    df_itens['issued'] = df_itens.apply(\n",
    "        lambda row: min(row['issued'], min_access_dates.get(row['page'], row['issued'])),\n",
    "        axis=1\n",
    "    )\n",
    "\n",
    "    # filtra apenas os acessos nas primeira hora\n",
    "    acessos = df_treino[['history', 'dateTimeHistory']]\n",
    "    acessos = acessos.set_index('history').join(df_itens.set_index('page')[['issued']], how='inner')\n",
    "    acessos['primeira_hora'] = ((acessos['dateTimeHistory'] - acessos['issued']).dt.total_seconds() / 3600) <= 1.0\n",
    "    acessos = acessos[acessos['primeira_hora']].reset_index()\n",
    "\n",
    "    # Contagem de acessos\n",
    "    count_acessos = acessos['history'].value_counts()\n",
    "\n",
    "    # 90 percentil\n",
    "    min_acessos = count_acessos.quantile(0.90)\n",
    "\n",
    "    # lista materias em que a quantidade de acessos na primeira hora é maior que min_acessos\n",
    "    materias_populares = count_acessos[count_acessos > min_acessos].index\n",
    "\n",
    "    return df_itens[df_itens['page'].isin(materias_populares)]\n"
   ]
  },
  {
   "cell_type": "code",
   "execution_count": 47,
   "metadata": {},
   "outputs": [],
   "source": [
    "if os.path.exists(r'data/materias_populares.csv'):\n",
    "    materias_populares = pd.read_csv(r'data/materias_populares.csv')\n",
    "else:\n",
    "    materias_populares = obtem_materias_populares(df_treino_train, df_itens)\n",
    "    materias_populares.to_csv(r'data/materias_populares.csv', index=False)"
   ]
  },
  {
   "cell_type": "code",
   "execution_count": null,
   "metadata": {},
   "outputs": [],
   "source": []
  },
  {
   "cell_type": "code",
   "execution_count": null,
   "metadata": {},
   "outputs": [],
   "source": []
  },
  {
   "cell_type": "code",
   "execution_count": null,
   "metadata": {},
   "outputs": [],
   "source": []
  },
  {
   "cell_type": "code",
   "execution_count": null,
   "metadata": {},
   "outputs": [],
   "source": []
  },
  {
   "cell_type": "code",
   "execution_count": null,
   "metadata": {},
   "outputs": [],
   "source": []
  },
  {
   "cell_type": "code",
   "execution_count": null,
   "metadata": {},
   "outputs": [],
   "source": []
  },
  {
   "cell_type": "code",
   "execution_count": null,
   "metadata": {},
   "outputs": [],
   "source": []
  },
  {
   "cell_type": "markdown",
   "metadata": {},
   "source": [
    "#### placeholder"
   ]
  },
  {
   "cell_type": "markdown",
   "metadata": {},
   "source": [
    "**O que nós temos até agora:**\n",
    "\n",
    "*userType*: <br>\n",
    "Existem 2 tipos de usuários, os uauários logados e não logados. Nós temos muita pouca informação entre os usuários, o que limita a nossa análise em termos de continuidade da navegação.<br>\n",
    "A princípio eu não consigo imaginar muitas formas de utilizar essa informação no nosso sistema de recomendação. Seria interessante utilizar o tipo de usuário, se pudessemos conectar os dados de navegação de usuários não logados e logados para mapear melhor o perfil de cada utilizador, mas sendo essa correlação impossível de ser feita com os dados que possuímos, então vou considerar cada usuário como um indivíduo único.\n",
    "\n",
    "*historySize*: <br>\n",
    "Podemos usar essa informação para separar usuários frequestes de usuários esporádicos. Essa informação deve ajudar a explorar os diferentes perfis, e testar algumas premissas com relação aos interesses entre diferentes perfis.\n",
    "\n",
    "*history*: <br>\n",
    "Esse é o identificador da matéria que o usuário acessou. Nos permite conectar os dados de navegação do usuário à matérias específicas.\n",
    "\n",
    "*timestampHistory*: <br>\n",
    "Essa informação nos permite calcular quanto tempo, após a publicação de uma notícia, um usuário levou para acessá-la. Notícias com uma média de tempo de acesso mais baixo, tende a ser de maior interesso dos leitores.\n",
    "\n",
    "*numberOfClicksHistory*: <br>\n",
    "????\n",
    "\n",
    "*timeOnPageHistory*: <br>\n",
    "A contagem de tempo que um usuário ficou na matéria pode nos dar indícios que esse usuário esteve interessado no conteúdo apresentado. É esperado que usuários que permaneceram mais tempo em uma matéria possam ter interesse no assunto abordado, portanto é insumo para o sistema de recomendações.\n",
    "\n",
    "\n",
    "*scrollPercentageHistory*: <br>\n",
    "O porcentagem de rolagem da matéria possui a mesma caracteristica do *timeOnPageHistory*. Quanto maior a porcentagem de rolagem, maior o provável interesse do uauário no conteúdo da matéria.\n",
    "\n",
    "*pageVisitsCountHistory*: <br>\n",
    "??????"
   ]
  },
  {
   "cell_type": "code",
   "execution_count": null,
   "metadata": {},
   "outputs": [],
   "source": []
  },
  {
   "cell_type": "code",
   "execution_count": null,
   "metadata": {},
   "outputs": [],
   "source": []
  },
  {
   "cell_type": "markdown",
   "metadata": {},
   "source": [
    "### Implementando algumas formas de recomendação"
   ]
  },
  {
   "cell_type": "markdown",
   "metadata": {},
   "source": [
    "#### Recomendação baseada em popularidade"
   ]
  },
  {
   "cell_type": "code",
   "execution_count": null,
   "metadata": {},
   "outputs": [],
   "source": []
  },
  {
   "cell_type": "code",
   "execution_count": null,
   "metadata": {},
   "outputs": [],
   "source": []
  }
 ],
 "metadata": {
  "kernelspec": {
   "display_name": ".venv",
   "language": "python",
   "name": "python3"
  },
  "language_info": {
   "codemirror_mode": {
    "name": "ipython",
    "version": 3
   },
   "file_extension": ".py",
   "mimetype": "text/x-python",
   "name": "python",
   "nbconvert_exporter": "python",
   "pygments_lexer": "ipython3",
   "version": "3.11.4"
  }
 },
 "nbformat": 4,
 "nbformat_minor": 2
}
